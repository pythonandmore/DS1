{
 "cells": [
  {
   "cell_type": "markdown",
   "metadata": {},
   "source": [
    "***\n",
    "# <span style='font-family:sans-serif'> Pollution effects on global health\n",
    "\n",
    "###  <span style='font-family:sans-serif'>The detriments of air pollution, and it's impact on global health\n",
    "***\n",
    "\n",
    "#### * DALYs (Disability Adjusted life years)  years lived with disability caused by disease attibutable to air pollution\n",
    "#### * Rate of Death/DALYs: Number of Deaths or DALYs per 1000,000"
   ]
  },
  {
   "cell_type": "code",
   "execution_count": 20,
   "metadata": {},
   "outputs": [
    {
     "data": {
      "text/html": [
       "        <script type=\"text/javascript\">\n",
       "        window.PlotlyConfig = {MathJaxConfig: 'local'};\n",
       "        if (window.MathJax) {MathJax.Hub.Config({SVG: {font: \"STIX-Web\"}});}\n",
       "        if (typeof require !== 'undefined') {\n",
       "        require.undef(\"plotly\");\n",
       "        requirejs.config({\n",
       "            paths: {\n",
       "                'plotly': ['https://cdn.plot.ly/plotly-latest.min']\n",
       "            }\n",
       "        });\n",
       "        require(['plotly'], function(Plotly) {\n",
       "            window._Plotly = Plotly;\n",
       "        });\n",
       "        }\n",
       "        </script>\n",
       "        "
      ]
     },
     "metadata": {},
     "output_type": "display_data"
    }
   ],
   "source": [
    "#pip install jupyter_dashboards\n",
    "\n",
    "%matplotlib inline\n",
    "\n",
    "import pandas as pd\n",
    "import re\n",
    "import numpy as np\n",
    "import chart_studio.plotly as pl\n",
    "import plotly.graph_objs as gobj\n",
    "from plotly.offline import download_plotlyjs,init_notebook_mode,plot,iplot\n",
    "init_notebook_mode(connected=True)\n",
    "import plotly.express as px\n",
    "from zipfile import ZipFile\n",
    "from urllib.request import urlopen  \n",
    "from io import BytesIO\n",
    "from bs4 import BeautifulSoup , SoupStrainer\n",
    "import lxml.html as lh\n",
    "import requests\n",
    "import matplotlib.pyplot as plt\n",
    "import seaborn as sns\n",
    "from ipywidgets import interact \n",
    "\n",
    "import matplotlib.cbook as cbook\n",
    "get_ipython().run_line_magic('matplotlib', 'inline')\n",
    "\n",
    "#Common functions\n",
    "def df_rename_columns(df_rename):\n",
    "    namez = list(df_rename.columns.values)\n",
    "    renamez = list(map(lambda namez:namez.strip('=\"'),namez))\n",
    "    df_rename.rename(columns=dict(zip(namez, renamez)), inplace=True)\n",
    "\n",
    "\n",
    "    \n",
    "def df_replace_columns(df_replace):\n",
    "    df_replace=df_replace.replace({'[=,\"]':''}, regex=True, inplace=True)\n",
    "\n",
    "def df_to_numeric(df_numeric):\n",
    "    cols = df_numeric.columns\n",
    "    for c in cols:\n",
    "        try:\n",
    "            df_numeric[c] = pd.to_numeric(df_numeric[c])\n",
    "        except:\n",
    "            pass\n",
    "    df_numeric['Year']=df_numeric['Year'].astype(np.float).astype(\"Int32\")\n",
    "    return df_numeric\n",
    "\n",
    "def df_to_numeric_only(df_numeric1):\n",
    "    cols1 = df_numeric1.columns\n",
    "    for c1 in cols1:\n",
    "        try:\n",
    "            df_numeric1[c1] = pd.to_numeric1(df_numeric[c1])\n",
    "        except:\n",
    "            pass\n",
    "    return df_numeric1"
   ]
  },
  {
   "cell_type": "code",
   "execution_count": 21,
   "metadata": {},
   "outputs": [],
   "source": [
    "#read and prep data\n",
    "url=\"https://data.zevross.com/hei-test/globalburden-2020/v1/burdens/country/find.csv?pollutant=ozone&type=country&measure=death&metric=rate&region=country&names=Afghanistan&names=Afghanistan&names=Albania&names=Algeria&names=American%20Samoa&names=Andorra&names=Angola&names=Antigua%20and%20Barbuda&names=Argentina&names=Armenia&names=Australia&names=Austria&names=Azerbaijan&names=Bahamas&names=Bahrain&names=Bangladesh&names=Barbados&names=Belarus&names=Belgium&names=Belize&names=Benin&names=Bermuda&names=Bhutan&names=Bolivia%20(Plurinational%20State%20of)&names=Bosnia%20and%20Herzegovina&names=Botswana&names=Brazil&names=Brunei%20Darussalam&names=Bulgaria&names=Burkina%20Faso&names=Burundi&names=Cabo%20Verde&names=Cambodia&names=Cameroon&names=Canada&names=Central%20African%20Republic&names=Chad&names=Chile&names=China&names=Colombia&names=Comoros&names=Congo&names=Cook%20Islands&names=Costa%20Rica&names=C%C3%B4te%20d%27Ivoire&names=Croatia&names=Cuba&names=Cyprus&names=Czechia&names=Democratic%20People%27s%20Republic%20of%20Korea&names=Democratic%20Republic%20of%20the%20Congo&names=Denmark&names=Djibouti&names=Dominica&names=Dominican%20Republic&names=Ecuador&names=Egypt&names=El%20Salvador&names=Equatorial%20Guinea&names=Eritrea&names=Estonia&names=Eswatini&names=Ethiopia&names=Fiji&names=Finland&names=France&names=Gabon&names=Gambia&names=Georgia&names=Germany&names=Ghana&names=Greece&names=Greenland&names=Grenada&names=Guam&names=Guatemala&names=Guinea&names=Guinea-Bissau&names=Guyana&names=Haiti&names=Honduras&names=Hungary&names=Iceland&names=India&names=Indonesia&names=Iran%20(Islamic%20Republic%20of)&names=Iraq&names=Ireland&names=Israel&names=Italy&names=Jamaica&names=Japan&names=Jordan&names=Kazakhstan&names=Kenya&names=Kiribati&names=Kuwait&names=Kyrgyzstan&names=Lao%20People%27s%20Democratic%20Republic&names=Latvia&names=Lebanon&names=Lesotho&names=Liberia&names=Libya&names=Lithuania&names=Luxembourg&names=Madagascar&names=Malawi&names=Malaysia&names=Maldives&names=Mali&names=Malta&names=Marshall%20Islands&names=Mauritania&names=Mauritius&names=Mexico&names=Micronesia%20(Federated%20States%20of)&names=Monaco&names=Mongolia&names=Montenegro&names=Morocco&names=Mozambique&names=Myanmar&names=Namibia&names=Nauru&names=Nepal&names=Netherlands&names=New%20Zealand&names=Nicaragua&names=Niger&names=Nigeria&names=Niue&names=Northern%20Mariana%20Islands&names=North%20Macedonia&names=Norway&names=Oman&names=Pakistan&names=Palau&names=Palestine&names=Panama&names=Papua%20New%20Guinea&names=Paraguay&names=Peru&names=Philippines&names=Poland&names=Portugal&names=Puerto%20Rico&names=Qatar&names=Republic%20of%20Korea&names=Republic%20of%20Moldova&names=Romania&names=Russian%20Federation&names=Rwanda&names=Saint%20Kitts%20and%20Nevis&names=Saint%20Lucia&names=Saint%20Vincent%20and%20the%20Grenadines&names=Samoa&names=San%20Marino&names=Sao%20Tome%20and%20Principe&names=Saudi%20Arabia&names=Senegal&names=Serbia&names=Seychelles&names=Sierra%20Leone&names=Singapore&names=Slovakia&names=Slovenia&names=Solomon%20Islands&names=Somalia&names=South%20Africa&names=South%20Sudan&names=Spain&names=Sri%20Lanka&names=Sudan&names=Suriname&names=Sweden&names=Switzerland&names=Syrian%20Arab%20Republic&names=Taiwan%20(Province%20of%20China)&names=Tajikistan&names=Thailand&names=Timor-Leste&names=Togo&names=Tokelau&names=Tonga&names=Trinidad%20and%20Tobago&names=Tunisia&names=Turkey&names=Turkmenistan&names=Tuvalu&names=Uganda&names=Ukraine&names=United%20Arab%20Emirates&names=United%20Kingdom&names=United%20Republic%20of%20Tanzania&names=United%20States%20of%20America&names=United%20States%20Virgin%20Islands&names=Uruguay&names=Uzbekistan&names=Vanuatu&names=Venezuela%20(Bolivarian%20Republic%20of)&names=Viet%20Nam&names=Yemen&names=Zambia&names=Zimbabwe\"\n",
    "death_rate_oz=pd.read_csv(url)\n",
    "df_rename_columns(death_rate_oz)\n",
    "df_replace_columns(death_rate_oz)\n",
    "df_to_numeric(death_rate_oz)\n",
    "death_rate_oz=death_rate_oz.dropna()\n",
    "#print(death_rate_oz.dtypes)      "
   ]
  },
  {
   "cell_type": "code",
   "execution_count": 22,
   "metadata": {},
   "outputs": [],
   "source": [
    "#read and prep data\n",
    "url=\"https://data.zevross.com/hei-test/globalburden-2020/v1/burdens/country/find.csv?pollutant=pm25&type=country&measure=death&metric=rate&region=country&names=Afghanistan&names=Afghanistan&names=Albania&names=Algeria&names=American%20Samoa&names=Andorra&names=Angola&names=Antigua%20and%20Barbuda&names=Argentina&names=Armenia&names=Australia&names=Austria&names=Azerbaijan&names=Bahamas&names=Bahrain&names=Bangladesh&names=Barbados&names=Belarus&names=Belgium&names=Belize&names=Benin&names=Bermuda&names=Bhutan&names=Bolivia%20(Plurinational%20State%20of)&names=Bosnia%20and%20Herzegovina&names=Botswana&names=Brazil&names=Brunei%20Darussalam&names=Bulgaria&names=Burkina%20Faso&names=Burundi&names=Cabo%20Verde&names=Cambodia&names=Cameroon&names=Canada&names=Central%20African%20Republic&names=Chad&names=Chile&names=China&names=Colombia&names=Comoros&names=Congo&names=Cook%20Islands&names=Costa%20Rica&names=C%C3%B4te%20d%27Ivoire&names=Croatia&names=Cuba&names=Cyprus&names=Czechia&names=Democratic%20People%27s%20Republic%20of%20Korea&names=Democratic%20Republic%20of%20the%20Congo&names=Denmark&names=Djibouti&names=Dominica&names=Dominican%20Republic&names=Ecuador&names=Egypt&names=El%20Salvador&names=Equatorial%20Guinea&names=Eritrea&names=Estonia&names=Eswatini&names=Ethiopia&names=Fiji&names=Finland&names=France&names=Gabon&names=Gambia&names=Georgia&names=Germany&names=Ghana&names=Greece&names=Greenland&names=Grenada&names=Guam&names=Guatemala&names=Guinea&names=Guinea-Bissau&names=Guyana&names=Haiti&names=Honduras&names=Hungary&names=Iceland&names=India&names=Indonesia&names=Iran%20(Islamic%20Republic%20of)&names=Iraq&names=Ireland&names=Israel&names=Italy&names=Jamaica&names=Japan&names=Jordan&names=Kazakhstan&names=Kenya&names=Kiribati&names=Kuwait&names=Kyrgyzstan&names=Lao%20People%27s%20Democratic%20Republic&names=Latvia&names=Lebanon&names=Lesotho&names=Liberia&names=Libya&names=Lithuania&names=Luxembourg&names=Madagascar&names=Malawi&names=Malaysia&names=Maldives&names=Mali&names=Malta&names=Marshall%20Islands&names=Mauritania&names=Mauritius&names=Mexico&names=Micronesia%20(Federated%20States%20of)&names=Monaco&names=Mongolia&names=Montenegro&names=Morocco&names=Mozambique&names=Myanmar&names=Namibia&names=Nauru&names=Nepal&names=Netherlands&names=New%20Zealand&names=Nicaragua&names=Niger&names=Nigeria&names=Niue&names=Northern%20Mariana%20Islands&names=North%20Macedonia&names=Norway&names=Oman&names=Pakistan&names=Palau&names=Palestine&names=Panama&names=Papua%20New%20Guinea&names=Paraguay&names=Peru&names=Philippines&names=Poland&names=Portugal&names=Puerto%20Rico&names=Qatar&names=Republic%20of%20Korea&names=Republic%20of%20Moldova&names=Romania&names=Russian%20Federation&names=Rwanda&names=Saint%20Kitts%20and%20Nevis&names=Saint%20Lucia&names=Saint%20Vincent%20and%20the%20Grenadines&names=Samoa&names=San%20Marino&names=Sao%20Tome%20and%20Principe&names=Saudi%20Arabia&names=Senegal&names=Serbia&names=Seychelles&names=Sierra%20Leone&names=Singapore&names=Slovakia&names=Slovenia&names=Solomon%20Islands&names=Somalia&names=South%20Africa&names=South%20Sudan&names=Spain&names=Sri%20Lanka&names=Sudan&names=Suriname&names=Sweden&names=Switzerland&names=Syrian%20Arab%20Republic&names=Taiwan%20(Province%20of%20China)&names=Tajikistan&names=Thailand&names=Timor-Leste&names=Togo&names=Tokelau&names=Tonga&names=Trinidad%20and%20Tobago&names=Tunisia&names=Turkey&names=Turkmenistan&names=Tuvalu&names=Uganda&names=Ukraine&names=United%20Arab%20Emirates&names=United%20Kingdom&names=United%20Republic%20of%20Tanzania&names=United%20States%20of%20America&names=United%20States%20Virgin%20Islands&names=Uruguay&names=Uzbekistan&names=Vanuatu&names=Venezuela%20(Bolivarian%20Republic%20of)&names=Viet%20Nam&names=Yemen&names=Zambia&names=Zimbabwe\"\n",
    "death_rate_pm25=pd.read_csv(url)\n",
    "df_rename_columns(death_rate_pm25)\n",
    "df_replace_columns(death_rate_pm25)\n",
    "df_to_numeric(death_rate_pm25)\n",
    "death_rate_pm25=death_rate_pm25.dropna()\n",
    "#print(death_rate_pm25_new.dtypes)\n",
    "#death_rate_pm25_new.head()"
   ]
  },
  {
   "cell_type": "code",
   "execution_count": 23,
   "metadata": {},
   "outputs": [],
   "source": [
    "#read and prep data\n",
    "url=\"https://data.zevross.com/hei-test/globalburden-2020/v1/burdens/country/find.csv?pollutant=hap&type=country&measure=death&metric=rate&region=country&names=Afghanistan&names=Afghanistan&names=Albania&names=Algeria&names=American%20Samoa&names=Andorra&names=Angola&names=Antigua%20and%20Barbuda&names=Argentina&names=Armenia&names=Australia&names=Austria&names=Azerbaijan&names=Bahamas&names=Bahrain&names=Bangladesh&names=Barbados&names=Belarus&names=Belgium&names=Belize&names=Benin&names=Bermuda&names=Bhutan&names=Bolivia%20(Plurinational%20State%20of)&names=Bosnia%20and%20Herzegovina&names=Botswana&names=Brazil&names=Brunei%20Darussalam&names=Bulgaria&names=Burkina%20Faso&names=Burundi&names=Cabo%20Verde&names=Cambodia&names=Cameroon&names=Canada&names=Central%20African%20Republic&names=Chad&names=Chile&names=China&names=Colombia&names=Comoros&names=Congo&names=Cook%20Islands&names=Costa%20Rica&names=C%C3%B4te%20d%27Ivoire&names=Croatia&names=Cuba&names=Cyprus&names=Czechia&names=Democratic%20People%27s%20Republic%20of%20Korea&names=Democratic%20Republic%20of%20the%20Congo&names=Denmark&names=Djibouti&names=Dominica&names=Dominican%20Republic&names=Ecuador&names=Egypt&names=El%20Salvador&names=Equatorial%20Guinea&names=Eritrea&names=Estonia&names=Eswatini&names=Ethiopia&names=Fiji&names=Finland&names=France&names=Gabon&names=Gambia&names=Georgia&names=Germany&names=Ghana&names=Greece&names=Greenland&names=Grenada&names=Guam&names=Guatemala&names=Guinea&names=Guinea-Bissau&names=Guyana&names=Haiti&names=Honduras&names=Hungary&names=Iceland&names=India&names=Indonesia&names=Iran%20(Islamic%20Republic%20of)&names=Iraq&names=Ireland&names=Israel&names=Italy&names=Jamaica&names=Japan&names=Jordan&names=Kazakhstan&names=Kenya&names=Kiribati&names=Kuwait&names=Kyrgyzstan&names=Lao%20People%27s%20Democratic%20Republic&names=Latvia&names=Lebanon&names=Lesotho&names=Liberia&names=Libya&names=Lithuania&names=Luxembourg&names=Madagascar&names=Malawi&names=Malaysia&names=Maldives&names=Mali&names=Malta&names=Marshall%20Islands&names=Mauritania&names=Mauritius&names=Mexico&names=Micronesia%20(Federated%20States%20of)&names=Monaco&names=Mongolia&names=Montenegro&names=Morocco&names=Mozambique&names=Myanmar&names=Namibia&names=Nauru&names=Nepal&names=Netherlands&names=New%20Zealand&names=Nicaragua&names=Niger&names=Nigeria&names=Niue&names=Northern%20Mariana%20Islands&names=North%20Macedonia&names=Norway&names=Oman&names=Pakistan&names=Palau&names=Palestine&names=Panama&names=Papua%20New%20Guinea&names=Paraguay&names=Peru&names=Philippines&names=Poland&names=Portugal&names=Puerto%20Rico&names=Qatar&names=Republic%20of%20Korea&names=Republic%20of%20Moldova&names=Romania&names=Russian%20Federation&names=Rwanda&names=Saint%20Kitts%20and%20Nevis&names=Saint%20Lucia&names=Saint%20Vincent%20and%20the%20Grenadines&names=Samoa&names=San%20Marino&names=Sao%20Tome%20and%20Principe&names=Saudi%20Arabia&names=Senegal&names=Serbia&names=Seychelles&names=Sierra%20Leone&names=Singapore&names=Slovakia&names=Slovenia&names=Solomon%20Islands&names=Somalia&names=South%20Africa&names=South%20Sudan&names=Spain&names=Sri%20Lanka&names=Sudan&names=Suriname&names=Sweden&names=Switzerland&names=Syrian%20Arab%20Republic&names=Taiwan%20(Province%20of%20China)&names=Tajikistan&names=Thailand&names=Timor-Leste&names=Togo&names=Tokelau&names=Tonga&names=Trinidad%20and%20Tobago&names=Tunisia&names=Turkey&names=Turkmenistan&names=Tuvalu&names=Uganda&names=Ukraine&names=United%20Arab%20Emirates&names=United%20Kingdom&names=United%20Republic%20of%20Tanzania&names=United%20States%20of%20America&names=United%20States%20Virgin%20Islands&names=Uruguay&names=Uzbekistan&names=Vanuatu&names=Venezuela%20(Bolivarian%20Republic%20of)&names=Viet%20Nam&names=Yemen&names=Zambia&names=Zimbabwe\"\n",
    "death_rate_hap=pd.read_csv(url)\n",
    "df_rename_columns(death_rate_hap)\n",
    "df_replace_columns(death_rate_hap)\n",
    "df_to_numeric(death_rate_hap)\n",
    "death_rate_hap=death_rate_hap.dropna()\n",
    "#print(death_rate_hap.dtypes)\n",
    "#death_rate_hap.head()"
   ]
  },
  {
   "cell_type": "code",
   "execution_count": 24,
   "metadata": {},
   "outputs": [],
   "source": [
    "#read and prep data\n",
    "url=\"https://data.zevross.com/hei-test/globalburden-2020/v1/burdens/country/find.csv?pollutant=airpoll&type=country&measure=death&metric=rate&region=country&names=Afghanistan&names=Afghanistan&names=Albania&names=Algeria&names=American%20Samoa&names=Andorra&names=Angola&names=Antigua%20and%20Barbuda&names=Argentina&names=Armenia&names=Australia&names=Austria&names=Azerbaijan&names=Bahamas&names=Bahrain&names=Bangladesh&names=Barbados&names=Belarus&names=Belgium&names=Belize&names=Benin&names=Bermuda&names=Bhutan&names=Bolivia%20(Plurinational%20State%20of)&names=Bosnia%20and%20Herzegovina&names=Botswana&names=Brazil&names=Brunei%20Darussalam&names=Bulgaria&names=Burkina%20Faso&names=Burundi&names=Cabo%20Verde&names=Cambodia&names=Cameroon&names=Canada&names=Central%20African%20Republic&names=Chad&names=Chile&names=China&names=Colombia&names=Comoros&names=Congo&names=Cook%20Islands&names=Costa%20Rica&names=C%C3%B4te%20d%27Ivoire&names=Croatia&names=Cuba&names=Cyprus&names=Czechia&names=Democratic%20People%27s%20Republic%20of%20Korea&names=Democratic%20Republic%20of%20the%20Congo&names=Denmark&names=Djibouti&names=Dominica&names=Dominican%20Republic&names=Ecuador&names=Egypt&names=El%20Salvador&names=Equatorial%20Guinea&names=Eritrea&names=Estonia&names=Eswatini&names=Ethiopia&names=Fiji&names=Finland&names=France&names=Gabon&names=Gambia&names=Georgia&names=Germany&names=Ghana&names=Greece&names=Greenland&names=Grenada&names=Guam&names=Guatemala&names=Guinea&names=Guinea-Bissau&names=Guyana&names=Haiti&names=Honduras&names=Hungary&names=Iceland&names=India&names=Indonesia&names=Iran%20(Islamic%20Republic%20of)&names=Iraq&names=Ireland&names=Israel&names=Italy&names=Jamaica&names=Japan&names=Jordan&names=Kazakhstan&names=Kenya&names=Kiribati&names=Kuwait&names=Kyrgyzstan&names=Lao%20People%27s%20Democratic%20Republic&names=Latvia&names=Lebanon&names=Lesotho&names=Liberia&names=Libya&names=Lithuania&names=Luxembourg&names=Madagascar&names=Malawi&names=Malaysia&names=Maldives&names=Mali&names=Malta&names=Marshall%20Islands&names=Mauritania&names=Mauritius&names=Mexico&names=Micronesia%20(Federated%20States%20of)&names=Monaco&names=Mongolia&names=Montenegro&names=Morocco&names=Mozambique&names=Myanmar&names=Namibia&names=Nauru&names=Nepal&names=Netherlands&names=New%20Zealand&names=Nicaragua&names=Niger&names=Nigeria&names=Niue&names=Northern%20Mariana%20Islands&names=North%20Macedonia&names=Norway&names=Oman&names=Pakistan&names=Palau&names=Palestine&names=Panama&names=Papua%20New%20Guinea&names=Paraguay&names=Peru&names=Philippines&names=Poland&names=Portugal&names=Puerto%20Rico&names=Qatar&names=Republic%20of%20Korea&names=Republic%20of%20Moldova&names=Romania&names=Russian%20Federation&names=Rwanda&names=Saint%20Kitts%20and%20Nevis&names=Saint%20Lucia&names=Saint%20Vincent%20and%20the%20Grenadines&names=Samoa&names=San%20Marino&names=Sao%20Tome%20and%20Principe&names=Saudi%20Arabia&names=Senegal&names=Serbia&names=Seychelles&names=Sierra%20Leone&names=Singapore&names=Slovakia&names=Slovenia&names=Solomon%20Islands&names=Somalia&names=South%20Africa&names=South%20Sudan&names=Spain&names=Sri%20Lanka&names=Sudan&names=Suriname&names=Sweden&names=Switzerland&names=Syrian%20Arab%20Republic&names=Taiwan%20(Province%20of%20China)&names=Tajikistan&names=Thailand&names=Timor-Leste&names=Togo&names=Tokelau&names=Tonga&names=Trinidad%20and%20Tobago&names=Tunisia&names=Turkey&names=Turkmenistan&names=Tuvalu&names=Uganda&names=Ukraine&names=United%20Arab%20Emirates&names=United%20Kingdom&names=United%20Republic%20of%20Tanzania&names=United%20States%20of%20America&names=United%20States%20Virgin%20Islands&names=Uruguay&names=Uzbekistan&names=Vanuatu&names=Venezuela%20(Bolivarian%20Republic%20of)&names=Viet%20Nam&names=Yemen&names=Zambia&names=Zimbabwe\"\n",
    "death_rate_air=pd.read_csv(url)\n",
    "df_rename_columns(death_rate_air)\n",
    "df_replace_columns(death_rate_air)\n",
    "df_to_numeric(death_rate_air)\n",
    "death_rate_air=death_rate_air.dropna()\n",
    "#print(death_rate_air.dtypes)\n",
    "#death_rate_air.head()"
   ]
  },
  {
   "cell_type": "code",
   "execution_count": 25,
   "metadata": {},
   "outputs": [],
   "source": [
    "#read and prep data\n",
    "url=\"https://data.zevross.com/hei-test/globalburden-2020/v1/burdens/country/find.csv?pollutant=pm25&type=country&measure=daly&metric=rate&region=country&names=Afghanistan&names=Afghanistan&names=Albania&names=Algeria&names=American%20Samoa&names=Andorra&names=Angola&names=Antigua%20and%20Barbuda&names=Argentina&names=Armenia&names=Australia&names=Austria&names=Azerbaijan&names=Bahamas&names=Bahrain&names=Bangladesh&names=Barbados&names=Belarus&names=Belgium&names=Belize&names=Benin&names=Bermuda&names=Bhutan&names=Bolivia%20(Plurinational%20State%20of)&names=Bosnia%20and%20Herzegovina&names=Botswana&names=Brazil&names=Brunei%20Darussalam&names=Bulgaria&names=Burkina%20Faso&names=Burundi&names=Cabo%20Verde&names=Cambodia&names=Cameroon&names=Canada&names=Central%20African%20Republic&names=Chad&names=Chile&names=China&names=Colombia&names=Comoros&names=Congo&names=Cook%20Islands&names=Costa%20Rica&names=C%C3%B4te%20d%27Ivoire&names=Croatia&names=Cuba&names=Cyprus&names=Czechia&names=Democratic%20People%27s%20Republic%20of%20Korea&names=Democratic%20Republic%20of%20the%20Congo&names=Denmark&names=Djibouti&names=Dominica&names=Dominican%20Republic&names=Ecuador&names=Egypt&names=El%20Salvador&names=Equatorial%20Guinea&names=Eritrea&names=Estonia&names=Eswatini&names=Ethiopia&names=Fiji&names=Finland&names=France&names=Gabon&names=Gambia&names=Georgia&names=Germany&names=Ghana&names=Greece&names=Greenland&names=Grenada&names=Guam&names=Guatemala&names=Guinea&names=Guinea-Bissau&names=Guyana&names=Haiti&names=Honduras&names=Hungary&names=Iceland&names=India&names=Indonesia&names=Iran%20(Islamic%20Republic%20of)&names=Iraq&names=Ireland&names=Israel&names=Italy&names=Jamaica&names=Japan&names=Jordan&names=Kazakhstan&names=Kenya&names=Kiribati&names=Kuwait&names=Kyrgyzstan&names=Lao%20People%27s%20Democratic%20Republic&names=Latvia&names=Lebanon&names=Lesotho&names=Liberia&names=Libya&names=Lithuania&names=Luxembourg&names=Madagascar&names=Malawi&names=Malaysia&names=Maldives&names=Mali&names=Malta&names=Marshall%20Islands&names=Mauritania&names=Mauritius&names=Mexico&names=Micronesia%20(Federated%20States%20of)&names=Monaco&names=Mongolia&names=Montenegro&names=Morocco&names=Mozambique&names=Myanmar&names=Namibia&names=Nauru&names=Nepal&names=Netherlands&names=New%20Zealand&names=Nicaragua&names=Niger&names=Nigeria&names=Niue&names=Northern%20Mariana%20Islands&names=North%20Macedonia&names=Norway&names=Oman&names=Pakistan&names=Palau&names=Palestine&names=Panama&names=Papua%20New%20Guinea&names=Paraguay&names=Peru&names=Philippines&names=Poland&names=Portugal&names=Puerto%20Rico&names=Qatar&names=Republic%20of%20Korea&names=Republic%20of%20Moldova&names=Romania&names=Russian%20Federation&names=Rwanda&names=Saint%20Kitts%20and%20Nevis&names=Saint%20Lucia&names=Saint%20Vincent%20and%20the%20Grenadines&names=Samoa&names=San%20Marino&names=Sao%20Tome%20and%20Principe&names=Saudi%20Arabia&names=Senegal&names=Serbia&names=Seychelles&names=Sierra%20Leone&names=Singapore&names=Slovakia&names=Slovenia&names=Solomon%20Islands&names=Somalia&names=South%20Africa&names=South%20Sudan&names=Spain&names=Sri%20Lanka&names=Sudan&names=Suriname&names=Sweden&names=Switzerland&names=Syrian%20Arab%20Republic&names=Taiwan%20(Province%20of%20China)&names=Tajikistan&names=Thailand&names=Timor-Leste&names=Togo&names=Tokelau&names=Tonga&names=Trinidad%20and%20Tobago&names=Tunisia&names=Turkey&names=Turkmenistan&names=Tuvalu&names=Uganda&names=Ukraine&names=United%20Arab%20Emirates&names=United%20Kingdom&names=United%20Republic%20of%20Tanzania&names=United%20States%20of%20America&names=United%20States%20Virgin%20Islands&names=Uruguay&names=Uzbekistan&names=Vanuatu&names=Venezuela%20(Bolivarian%20Republic%20of)&names=Viet%20Nam&names=Yemen&names=Zambia&names=Zimbabwe\"\n",
    "daly_rate_pm25=pd.read_csv(url)\n",
    "df_rename_columns(daly_rate_pm25)\n",
    "df_replace_columns(daly_rate_pm25)\n",
    "df_to_numeric(daly_rate_pm25)\n",
    "daly_rate_pm25=daly_rate_pm25.dropna()\n",
    "#print(daly_rate_pm25.dtypes)\n",
    "#daly_rate_pm25.head()"
   ]
  },
  {
   "cell_type": "code",
   "execution_count": 26,
   "metadata": {},
   "outputs": [],
   "source": [
    "#read and prep data\n",
    "url=\"https://data.zevross.com/hei-test/globalburden-2020/v1/burdens/country/find.csv?pollutant=ozone&type=country&measure=daly&metric=rate&region=country&names=Afghanistan&names=Afghanistan&names=Albania&names=Algeria&names=American%20Samoa&names=Andorra&names=Angola&names=Antigua%20and%20Barbuda&names=Argentina&names=Armenia&names=Australia&names=Austria&names=Azerbaijan&names=Bahamas&names=Bahrain&names=Bangladesh&names=Barbados&names=Belarus&names=Belgium&names=Belize&names=Benin&names=Bermuda&names=Bhutan&names=Bolivia%20(Plurinational%20State%20of)&names=Bosnia%20and%20Herzegovina&names=Botswana&names=Brazil&names=Brunei%20Darussalam&names=Bulgaria&names=Burkina%20Faso&names=Burundi&names=Cabo%20Verde&names=Cambodia&names=Cameroon&names=Canada&names=Central%20African%20Republic&names=Chad&names=Chile&names=China&names=Colombia&names=Comoros&names=Congo&names=Cook%20Islands&names=Costa%20Rica&names=C%C3%B4te%20d%27Ivoire&names=Croatia&names=Cuba&names=Cyprus&names=Czechia&names=Democratic%20People%27s%20Republic%20of%20Korea&names=Democratic%20Republic%20of%20the%20Congo&names=Denmark&names=Djibouti&names=Dominica&names=Dominican%20Republic&names=Ecuador&names=Egypt&names=El%20Salvador&names=Equatorial%20Guinea&names=Eritrea&names=Estonia&names=Eswatini&names=Ethiopia&names=Fiji&names=Finland&names=France&names=Gabon&names=Gambia&names=Georgia&names=Germany&names=Ghana&names=Greece&names=Greenland&names=Grenada&names=Guam&names=Guatemala&names=Guinea&names=Guinea-Bissau&names=Guyana&names=Haiti&names=Honduras&names=Hungary&names=Iceland&names=India&names=Indonesia&names=Iran%20(Islamic%20Republic%20of)&names=Iraq&names=Ireland&names=Israel&names=Italy&names=Jamaica&names=Japan&names=Jordan&names=Kazakhstan&names=Kenya&names=Kiribati&names=Kuwait&names=Kyrgyzstan&names=Lao%20People%27s%20Democratic%20Republic&names=Latvia&names=Lebanon&names=Lesotho&names=Liberia&names=Libya&names=Lithuania&names=Luxembourg&names=Madagascar&names=Malawi&names=Malaysia&names=Maldives&names=Mali&names=Malta&names=Marshall%20Islands&names=Mauritania&names=Mauritius&names=Mexico&names=Micronesia%20(Federated%20States%20of)&names=Monaco&names=Mongolia&names=Montenegro&names=Morocco&names=Mozambique&names=Myanmar&names=Namibia&names=Nauru&names=Nepal&names=Netherlands&names=New%20Zealand&names=Nicaragua&names=Niger&names=Nigeria&names=Niue&names=Northern%20Mariana%20Islands&names=North%20Macedonia&names=Norway&names=Oman&names=Pakistan&names=Palau&names=Palestine&names=Panama&names=Papua%20New%20Guinea&names=Paraguay&names=Peru&names=Philippines&names=Poland&names=Portugal&names=Puerto%20Rico&names=Qatar&names=Republic%20of%20Korea&names=Republic%20of%20Moldova&names=Romania&names=Russian%20Federation&names=Rwanda&names=Saint%20Kitts%20and%20Nevis&names=Saint%20Lucia&names=Saint%20Vincent%20and%20the%20Grenadines&names=Samoa&names=San%20Marino&names=Sao%20Tome%20and%20Principe&names=Saudi%20Arabia&names=Senegal&names=Serbia&names=Seychelles&names=Sierra%20Leone&names=Singapore&names=Slovakia&names=Slovenia&names=Solomon%20Islands&names=Somalia&names=South%20Africa&names=South%20Sudan&names=Spain&names=Sri%20Lanka&names=Sudan&names=Suriname&names=Sweden&names=Switzerland&names=Syrian%20Arab%20Republic&names=Taiwan%20(Province%20of%20China)&names=Tajikistan&names=Thailand&names=Timor-Leste&names=Togo&names=Tokelau&names=Tonga&names=Trinidad%20and%20Tobago&names=Tunisia&names=Turkey&names=Turkmenistan&names=Tuvalu&names=Uganda&names=Ukraine&names=United%20Arab%20Emirates&names=United%20Kingdom&names=United%20Republic%20of%20Tanzania&names=United%20States%20of%20America&names=United%20States%20Virgin%20Islands&names=Uruguay&names=Uzbekistan&names=Vanuatu&names=Venezuela%20(Bolivarian%20Republic%20of)&names=Viet%20Nam&names=Yemen&names=Zambia&names=Zimbabwe\"\n",
    "daly_rate_o3=pd.read_csv(url)\n",
    "df_rename_columns(daly_rate_o3)\n",
    "df_replace_columns(daly_rate_o3)\n",
    "df_to_numeric(daly_rate_o3)\n",
    "daly_rate_o3=daly_rate_o3.dropna()\n",
    "#print(daly_rate_o3.dtypes)\n",
    "#daly_rate_o3.head()"
   ]
  },
  {
   "cell_type": "code",
   "execution_count": 27,
   "metadata": {},
   "outputs": [],
   "source": [
    "#read and prep data\n",
    "url=\"https://data.zevross.com/hei-test/globalburden-2020/v1/burdens/country/find.csv?pollutant=hap&type=country&measure=daly&metric=rate&region=country&names=Afghanistan&names=Afghanistan&names=Albania&names=Algeria&names=American%20Samoa&names=Andorra&names=Angola&names=Antigua%20and%20Barbuda&names=Argentina&names=Armenia&names=Australia&names=Austria&names=Azerbaijan&names=Bahamas&names=Bahrain&names=Bangladesh&names=Barbados&names=Belarus&names=Belgium&names=Belize&names=Benin&names=Bermuda&names=Bhutan&names=Bolivia%20(Plurinational%20State%20of)&names=Bosnia%20and%20Herzegovina&names=Botswana&names=Brazil&names=Brunei%20Darussalam&names=Bulgaria&names=Burkina%20Faso&names=Burundi&names=Cabo%20Verde&names=Cambodia&names=Cameroon&names=Canada&names=Central%20African%20Republic&names=Chad&names=Chile&names=China&names=Colombia&names=Comoros&names=Congo&names=Cook%20Islands&names=Costa%20Rica&names=C%C3%B4te%20d%27Ivoire&names=Croatia&names=Cuba&names=Cyprus&names=Czechia&names=Democratic%20People%27s%20Republic%20of%20Korea&names=Democratic%20Republic%20of%20the%20Congo&names=Denmark&names=Djibouti&names=Dominica&names=Dominican%20Republic&names=Ecuador&names=Egypt&names=El%20Salvador&names=Equatorial%20Guinea&names=Eritrea&names=Estonia&names=Eswatini&names=Ethiopia&names=Fiji&names=Finland&names=France&names=Gabon&names=Gambia&names=Georgia&names=Germany&names=Ghana&names=Greece&names=Greenland&names=Grenada&names=Guam&names=Guatemala&names=Guinea&names=Guinea-Bissau&names=Guyana&names=Haiti&names=Honduras&names=Hungary&names=Iceland&names=India&names=Indonesia&names=Iran%20(Islamic%20Republic%20of)&names=Iraq&names=Ireland&names=Israel&names=Italy&names=Jamaica&names=Japan&names=Jordan&names=Kazakhstan&names=Kenya&names=Kiribati&names=Kuwait&names=Kyrgyzstan&names=Lao%20People%27s%20Democratic%20Republic&names=Latvia&names=Lebanon&names=Lesotho&names=Liberia&names=Libya&names=Lithuania&names=Luxembourg&names=Madagascar&names=Malawi&names=Malaysia&names=Maldives&names=Mali&names=Malta&names=Marshall%20Islands&names=Mauritania&names=Mauritius&names=Mexico&names=Micronesia%20(Federated%20States%20of)&names=Monaco&names=Mongolia&names=Montenegro&names=Morocco&names=Mozambique&names=Myanmar&names=Namibia&names=Nauru&names=Nepal&names=Netherlands&names=New%20Zealand&names=Nicaragua&names=Niger&names=Nigeria&names=Niue&names=Northern%20Mariana%20Islands&names=North%20Macedonia&names=Norway&names=Oman&names=Pakistan&names=Palau&names=Palestine&names=Panama&names=Papua%20New%20Guinea&names=Paraguay&names=Peru&names=Philippines&names=Poland&names=Portugal&names=Puerto%20Rico&names=Qatar&names=Republic%20of%20Korea&names=Republic%20of%20Moldova&names=Romania&names=Russian%20Federation&names=Rwanda&names=Saint%20Kitts%20and%20Nevis&names=Saint%20Lucia&names=Saint%20Vincent%20and%20the%20Grenadines&names=Samoa&names=San%20Marino&names=Sao%20Tome%20and%20Principe&names=Saudi%20Arabia&names=Senegal&names=Serbia&names=Seychelles&names=Sierra%20Leone&names=Singapore&names=Slovakia&names=Slovenia&names=Solomon%20Islands&names=Somalia&names=South%20Africa&names=South%20Sudan&names=Spain&names=Sri%20Lanka&names=Sudan&names=Suriname&names=Sweden&names=Switzerland&names=Syrian%20Arab%20Republic&names=Taiwan%20(Province%20of%20China)&names=Tajikistan&names=Thailand&names=Timor-Leste&names=Togo&names=Tokelau&names=Tonga&names=Trinidad%20and%20Tobago&names=Tunisia&names=Turkey&names=Turkmenistan&names=Tuvalu&names=Uganda&names=Ukraine&names=United%20Arab%20Emirates&names=United%20Kingdom&names=United%20Republic%20of%20Tanzania&names=United%20States%20of%20America&names=United%20States%20Virgin%20Islands&names=Uruguay&names=Uzbekistan&names=Vanuatu&names=Venezuela%20(Bolivarian%20Republic%20of)&names=Viet%20Nam&names=Yemen&names=Zambia&names=Zimbabwe\"\n",
    "daly_rate_hap=pd.read_csv(url)\n",
    "df_rename_columns(daly_rate_hap)\n",
    "df_replace_columns(daly_rate_hap)\n",
    "df_to_numeric(daly_rate_hap)\n",
    "daly_rate_hap=daly_rate_hap.dropna()\n",
    "#print(daly_rate_hap.dtypes)\n",
    "#daly_rate_hap.head()"
   ]
  },
  {
   "cell_type": "code",
   "execution_count": 28,
   "metadata": {},
   "outputs": [],
   "source": [
    "#read and prep data\n",
    "url=\"https://data.zevross.com/hei-test/globalburden-2020/v1/burdens/country/find.csv?pollutant=airpoll&type=country&measure=daly&metric=rate&region=country&names=Afghanistan&names=Afghanistan&names=Albania&names=Algeria&names=American%20Samoa&names=Andorra&names=Angola&names=Antigua%20and%20Barbuda&names=Argentina&names=Armenia&names=Australia&names=Austria&names=Azerbaijan&names=Bahamas&names=Bahrain&names=Bangladesh&names=Barbados&names=Belarus&names=Belgium&names=Belize&names=Benin&names=Bermuda&names=Bhutan&names=Bolivia%20(Plurinational%20State%20of)&names=Bosnia%20and%20Herzegovina&names=Botswana&names=Brazil&names=Brunei%20Darussalam&names=Bulgaria&names=Burkina%20Faso&names=Burundi&names=Cabo%20Verde&names=Cambodia&names=Cameroon&names=Canada&names=Central%20African%20Republic&names=Chad&names=Chile&names=China&names=Colombia&names=Comoros&names=Congo&names=Cook%20Islands&names=Costa%20Rica&names=C%C3%B4te%20d%27Ivoire&names=Croatia&names=Cuba&names=Cyprus&names=Czechia&names=Democratic%20People%27s%20Republic%20of%20Korea&names=Democratic%20Republic%20of%20the%20Congo&names=Denmark&names=Djibouti&names=Dominica&names=Dominican%20Republic&names=Ecuador&names=Egypt&names=El%20Salvador&names=Equatorial%20Guinea&names=Eritrea&names=Estonia&names=Eswatini&names=Ethiopia&names=Fiji&names=Finland&names=France&names=Gabon&names=Gambia&names=Georgia&names=Germany&names=Ghana&names=Greece&names=Greenland&names=Grenada&names=Guam&names=Guatemala&names=Guinea&names=Guinea-Bissau&names=Guyana&names=Haiti&names=Honduras&names=Hungary&names=Iceland&names=India&names=Indonesia&names=Iran%20(Islamic%20Republic%20of)&names=Iraq&names=Ireland&names=Israel&names=Italy&names=Jamaica&names=Japan&names=Jordan&names=Kazakhstan&names=Kenya&names=Kiribati&names=Kuwait&names=Kyrgyzstan&names=Lao%20People%27s%20Democratic%20Republic&names=Latvia&names=Lebanon&names=Lesotho&names=Liberia&names=Libya&names=Lithuania&names=Luxembourg&names=Madagascar&names=Malawi&names=Malaysia&names=Maldives&names=Mali&names=Malta&names=Marshall%20Islands&names=Mauritania&names=Mauritius&names=Mexico&names=Micronesia%20(Federated%20States%20of)&names=Monaco&names=Mongolia&names=Montenegro&names=Morocco&names=Mozambique&names=Myanmar&names=Namibia&names=Nauru&names=Nepal&names=Netherlands&names=New%20Zealand&names=Nicaragua&names=Niger&names=Nigeria&names=Niue&names=Northern%20Mariana%20Islands&names=North%20Macedonia&names=Norway&names=Oman&names=Pakistan&names=Palau&names=Palestine&names=Panama&names=Papua%20New%20Guinea&names=Paraguay&names=Peru&names=Philippines&names=Poland&names=Portugal&names=Puerto%20Rico&names=Qatar&names=Republic%20of%20Korea&names=Republic%20of%20Moldova&names=Romania&names=Russian%20Federation&names=Rwanda&names=Saint%20Kitts%20and%20Nevis&names=Saint%20Lucia&names=Saint%20Vincent%20and%20the%20Grenadines&names=Samoa&names=San%20Marino&names=Sao%20Tome%20and%20Principe&names=Saudi%20Arabia&names=Senegal&names=Serbia&names=Seychelles&names=Sierra%20Leone&names=Singapore&names=Slovakia&names=Slovenia&names=Solomon%20Islands&names=Somalia&names=South%20Africa&names=South%20Sudan&names=Spain&names=Sri%20Lanka&names=Sudan&names=Suriname&names=Sweden&names=Switzerland&names=Syrian%20Arab%20Republic&names=Taiwan%20(Province%20of%20China)&names=Tajikistan&names=Thailand&names=Timor-Leste&names=Togo&names=Tokelau&names=Tonga&names=Trinidad%20and%20Tobago&names=Tunisia&names=Turkey&names=Turkmenistan&names=Tuvalu&names=Uganda&names=Ukraine&names=United%20Arab%20Emirates&names=United%20Kingdom&names=United%20Republic%20of%20Tanzania&names=United%20States%20of%20America&names=United%20States%20Virgin%20Islands&names=Uruguay&names=Uzbekistan&names=Vanuatu&names=Venezuela%20(Bolivarian%20Republic%20of)&names=Viet%20Nam&names=Yemen&names=Zambia&names=Zimbabwe\"\n",
    "daly_rate_air=pd.read_csv(url)\n",
    "df_rename_columns(daly_rate_air)\n",
    "df_replace_columns(daly_rate_air)\n",
    "df_to_numeric(daly_rate_air)\n",
    "daly_rate_air=daly_rate_air.dropna()\n",
    "#print(daly_rate_air.dtypes)\n",
    "#daly_rate_air.head()"
   ]
  },
  {
   "cell_type": "code",
   "execution_count": 29,
   "metadata": {},
   "outputs": [],
   "source": [
    "#read and prep data\n",
    "url=\"https://data.zevross.com/hei-test/globalburden-2020/v1/exposures/country/find.csv?pollutant=pm25&type=country&region=country&names=Afghanistan&names=Afghanistan&names=Albania&names=Algeria&names=American%20Samoa&names=Andorra&names=Angola&names=Antigua%20and%20Barbuda&names=Argentina&names=Armenia&names=Australia&names=Austria&names=Azerbaijan&names=Bahamas&names=Bahrain&names=Bangladesh&names=Barbados&names=Belarus&names=Belgium&names=Belize&names=Benin&names=Bermuda&names=Bhutan&names=Bolivia%20(Plurinational%20State%20of)&names=Bosnia%20and%20Herzegovina&names=Botswana&names=Brazil&names=Brunei%20Darussalam&names=Bulgaria&names=Burkina%20Faso&names=Burundi&names=Cabo%20Verde&names=Cambodia&names=Cameroon&names=Canada&names=Central%20African%20Republic&names=Chad&names=Chile&names=China&names=Colombia&names=Comoros&names=Congo&names=Cook%20Islands&names=Costa%20Rica&names=C%C3%B4te%20d%27Ivoire&names=Croatia&names=Cuba&names=Cyprus&names=Czechia&names=Democratic%20People%27s%20Republic%20of%20Korea&names=Democratic%20Republic%20of%20the%20Congo&names=Denmark&names=Djibouti&names=Dominica&names=Dominican%20Republic&names=Ecuador&names=Egypt&names=El%20Salvador&names=Equatorial%20Guinea&names=Eritrea&names=Estonia&names=Eswatini&names=Ethiopia&names=Fiji&names=Finland&names=France&names=Gabon&names=Gambia&names=Georgia&names=Germany&names=Ghana&names=Greece&names=Greenland&names=Grenada&names=Guam&names=Guatemala&names=Guinea&names=Guinea-Bissau&names=Guyana&names=Haiti&names=Honduras&names=Hungary&names=Iceland&names=India&names=Indonesia&names=Iran%20(Islamic%20Republic%20of)&names=Iraq&names=Ireland&names=Israel&names=Italy&names=Jamaica&names=Japan&names=Jordan&names=Kazakhstan&names=Kenya&names=Kiribati&names=Kuwait&names=Kyrgyzstan&names=Lao%20People%27s%20Democratic%20Republic&names=Latvia&names=Lebanon&names=Lesotho&names=Liberia&names=Libya&names=Lithuania&names=Luxembourg&names=Madagascar&names=Malawi&names=Malaysia&names=Maldives&names=Mali&names=Malta&names=Marshall%20Islands&names=Mauritania&names=Mauritius&names=Mexico&names=Micronesia%20(Federated%20States%20of)&names=Monaco&names=Mongolia&names=Montenegro&names=Morocco&names=Mozambique&names=Myanmar&names=Namibia&names=Nauru&names=Nepal&names=Netherlands&names=New%20Zealand&names=Nicaragua&names=Niger&names=Nigeria&names=Niue&names=Northern%20Mariana%20Islands&names=North%20Macedonia&names=Norway&names=Oman&names=Pakistan&names=Palau&names=Palestine&names=Panama&names=Papua%20New%20Guinea&names=Paraguay&names=Peru&names=Philippines&names=Poland&names=Portugal&names=Puerto%20Rico&names=Qatar&names=Republic%20of%20Korea&names=Republic%20of%20Moldova&names=Romania&names=Russian%20Federation&names=Rwanda&names=Saint%20Kitts%20and%20Nevis&names=Saint%20Lucia&names=Saint%20Vincent%20and%20the%20Grenadines&names=Samoa&names=San%20Marino&names=Sao%20Tome%20and%20Principe&names=Saudi%20Arabia&names=Senegal&names=Serbia&names=Seychelles&names=Sierra%20Leone&names=Singapore&names=Slovakia&names=Slovenia&names=Solomon%20Islands&names=Somalia&names=South%20Africa&names=South%20Sudan&names=Spain&names=Sri%20Lanka&names=Sudan&names=Suriname&names=Sweden&names=Switzerland&names=Syrian%20Arab%20Republic&names=Taiwan%20(Province%20of%20China)&names=Tajikistan&names=Thailand&names=Timor-Leste&names=Togo&names=Tokelau&names=Tonga&names=Trinidad%20and%20Tobago&names=Tunisia&names=Turkey&names=Turkmenistan&names=Tuvalu&names=Uganda&names=Ukraine&names=United%20Arab%20Emirates&names=United%20Kingdom&names=United%20Republic%20of%20Tanzania&names=United%20States%20of%20America&names=United%20States%20Virgin%20Islands&names=Uruguay&names=Uzbekistan&names=Vanuatu&names=Venezuela%20(Bolivarian%20Republic%20of)&names=Viet%20Nam&names=Yemen&names=Zambia&names=Zimbabwe\"\n",
    "aq_pm25=pd.read_csv(url)\n",
    "df_rename_columns(aq_pm25)\n",
    "df_replace_columns(aq_pm25)\n",
    "df_to_numeric(aq_pm25)\n",
    "aq_pm25=aq_pm25.dropna()\n",
    "#print(aq_pm25.dtypes)\n",
    "#aq_pm25.head()"
   ]
  },
  {
   "cell_type": "code",
   "execution_count": 30,
   "metadata": {},
   "outputs": [],
   "source": [
    "#read and prep data\n",
    "url=\"https://data.zevross.com/hei-test/globalburden-2020/v1/exposures/country/find.csv?pollutant=ozone&type=country&region=country&names=Afghanistan&names=Afghanistan&names=Albania&names=Algeria&names=American%20Samoa&names=Andorra&names=Angola&names=Antigua%20and%20Barbuda&names=Argentina&names=Armenia&names=Australia&names=Austria&names=Azerbaijan&names=Bahamas&names=Bahrain&names=Bangladesh&names=Barbados&names=Belarus&names=Belgium&names=Belize&names=Benin&names=Bermuda&names=Bhutan&names=Bolivia%20(Plurinational%20State%20of)&names=Bosnia%20and%20Herzegovina&names=Botswana&names=Brazil&names=Brunei%20Darussalam&names=Bulgaria&names=Burkina%20Faso&names=Burundi&names=Cabo%20Verde&names=Cambodia&names=Cameroon&names=Canada&names=Central%20African%20Republic&names=Chad&names=Chile&names=China&names=Colombia&names=Comoros&names=Congo&names=Cook%20Islands&names=Costa%20Rica&names=C%C3%B4te%20d%27Ivoire&names=Croatia&names=Cuba&names=Cyprus&names=Czechia&names=Democratic%20People%27s%20Republic%20of%20Korea&names=Democratic%20Republic%20of%20the%20Congo&names=Denmark&names=Djibouti&names=Dominica&names=Dominican%20Republic&names=Ecuador&names=Egypt&names=El%20Salvador&names=Equatorial%20Guinea&names=Eritrea&names=Estonia&names=Eswatini&names=Ethiopia&names=Fiji&names=Finland&names=France&names=Gabon&names=Gambia&names=Georgia&names=Germany&names=Ghana&names=Greece&names=Greenland&names=Grenada&names=Guam&names=Guatemala&names=Guinea&names=Guinea-Bissau&names=Guyana&names=Haiti&names=Honduras&names=Hungary&names=Iceland&names=India&names=Indonesia&names=Iran%20(Islamic%20Republic%20of)&names=Iraq&names=Ireland&names=Israel&names=Italy&names=Jamaica&names=Japan&names=Jordan&names=Kazakhstan&names=Kenya&names=Kiribati&names=Kuwait&names=Kyrgyzstan&names=Lao%20People%27s%20Democratic%20Republic&names=Latvia&names=Lebanon&names=Lesotho&names=Liberia&names=Libya&names=Lithuania&names=Luxembourg&names=Madagascar&names=Malawi&names=Malaysia&names=Maldives&names=Mali&names=Malta&names=Marshall%20Islands&names=Mauritania&names=Mauritius&names=Mexico&names=Micronesia%20(Federated%20States%20of)&names=Monaco&names=Mongolia&names=Montenegro&names=Morocco&names=Mozambique&names=Myanmar&names=Namibia&names=Nauru&names=Nepal&names=Netherlands&names=New%20Zealand&names=Nicaragua&names=Niger&names=Nigeria&names=Niue&names=Northern%20Mariana%20Islands&names=North%20Macedonia&names=Norway&names=Oman&names=Pakistan&names=Palau&names=Palestine&names=Panama&names=Papua%20New%20Guinea&names=Paraguay&names=Peru&names=Philippines&names=Poland&names=Portugal&names=Puerto%20Rico&names=Qatar&names=Republic%20of%20Korea&names=Republic%20of%20Moldova&names=Romania&names=Russian%20Federation&names=Rwanda&names=Saint%20Kitts%20and%20Nevis&names=Saint%20Lucia&names=Saint%20Vincent%20and%20the%20Grenadines&names=Samoa&names=San%20Marino&names=Sao%20Tome%20and%20Principe&names=Saudi%20Arabia&names=Senegal&names=Serbia&names=Seychelles&names=Sierra%20Leone&names=Singapore&names=Slovakia&names=Slovenia&names=Solomon%20Islands&names=Somalia&names=South%20Africa&names=South%20Sudan&names=Spain&names=Sri%20Lanka&names=Sudan&names=Suriname&names=Sweden&names=Switzerland&names=Syrian%20Arab%20Republic&names=Taiwan%20(Province%20of%20China)&names=Tajikistan&names=Thailand&names=Timor-Leste&names=Togo&names=Tokelau&names=Tonga&names=Trinidad%20and%20Tobago&names=Tunisia&names=Turkey&names=Turkmenistan&names=Tuvalu&names=Uganda&names=Ukraine&names=United%20Arab%20Emirates&names=United%20Kingdom&names=United%20Republic%20of%20Tanzania&names=United%20States%20of%20America&names=United%20States%20Virgin%20Islands&names=Uruguay&names=Uzbekistan&names=Vanuatu&names=Venezuela%20(Bolivarian%20Republic%20of)&names=Viet%20Nam&names=Yemen&names=Zambia&names=Zimbabwe\"\n",
    "aq_o3=pd.read_csv(url)\n",
    "df_rename_columns(aq_o3)\n",
    "df_replace_columns(aq_o3)\n",
    "df_to_numeric(aq_o3)\n",
    "aq_o3=aq_o3.dropna()\n",
    "#print(aq_o3.dtypes)\n",
    "#aq_o3.head()"
   ]
  },
  {
   "cell_type": "code",
   "execution_count": 31,
   "metadata": {},
   "outputs": [],
   "source": [
    "#read and prep data\n",
    "url=\"https://data.zevross.com/hei-test/globalburden-2020/v1/exposures/country/find.csv?pollutant=hap&type=country&region=country&names=Afghanistan&names=Afghanistan&names=Albania&names=Algeria&names=American%20Samoa&names=Andorra&names=Angola&names=Antigua%20and%20Barbuda&names=Argentina&names=Armenia&names=Australia&names=Austria&names=Azerbaijan&names=Bahamas&names=Bahrain&names=Bangladesh&names=Barbados&names=Belarus&names=Belgium&names=Belize&names=Benin&names=Bermuda&names=Bhutan&names=Bolivia%20(Plurinational%20State%20of)&names=Bosnia%20and%20Herzegovina&names=Botswana&names=Brazil&names=Brunei%20Darussalam&names=Bulgaria&names=Burkina%20Faso&names=Burundi&names=Cabo%20Verde&names=Cambodia&names=Cameroon&names=Canada&names=Central%20African%20Republic&names=Chad&names=Chile&names=China&names=Colombia&names=Comoros&names=Congo&names=Cook%20Islands&names=Costa%20Rica&names=C%C3%B4te%20d%27Ivoire&names=Croatia&names=Cuba&names=Cyprus&names=Czechia&names=Democratic%20People%27s%20Republic%20of%20Korea&names=Democratic%20Republic%20of%20the%20Congo&names=Denmark&names=Djibouti&names=Dominica&names=Dominican%20Republic&names=Ecuador&names=Egypt&names=El%20Salvador&names=Equatorial%20Guinea&names=Eritrea&names=Estonia&names=Eswatini&names=Ethiopia&names=Fiji&names=Finland&names=France&names=Gabon&names=Gambia&names=Georgia&names=Germany&names=Ghana&names=Greece&names=Greenland&names=Grenada&names=Guam&names=Guatemala&names=Guinea&names=Guinea-Bissau&names=Guyana&names=Haiti&names=Honduras&names=Hungary&names=Iceland&names=India&names=Indonesia&names=Iran%20(Islamic%20Republic%20of)&names=Iraq&names=Ireland&names=Israel&names=Italy&names=Jamaica&names=Japan&names=Jordan&names=Kazakhstan&names=Kenya&names=Kiribati&names=Kuwait&names=Kyrgyzstan&names=Lao%20People%27s%20Democratic%20Republic&names=Latvia&names=Lebanon&names=Lesotho&names=Liberia&names=Libya&names=Lithuania&names=Luxembourg&names=Madagascar&names=Malawi&names=Malaysia&names=Maldives&names=Mali&names=Malta&names=Marshall%20Islands&names=Mauritania&names=Mauritius&names=Mexico&names=Micronesia%20(Federated%20States%20of)&names=Monaco&names=Mongolia&names=Montenegro&names=Morocco&names=Mozambique&names=Myanmar&names=Namibia&names=Nauru&names=Nepal&names=Netherlands&names=New%20Zealand&names=Nicaragua&names=Niger&names=Nigeria&names=Niue&names=Northern%20Mariana%20Islands&names=North%20Macedonia&names=Norway&names=Oman&names=Pakistan&names=Palau&names=Palestine&names=Panama&names=Papua%20New%20Guinea&names=Paraguay&names=Peru&names=Philippines&names=Poland&names=Portugal&names=Puerto%20Rico&names=Qatar&names=Republic%20of%20Korea&names=Republic%20of%20Moldova&names=Romania&names=Russian%20Federation&names=Rwanda&names=Saint%20Kitts%20and%20Nevis&names=Saint%20Lucia&names=Saint%20Vincent%20and%20the%20Grenadines&names=Samoa&names=San%20Marino&names=Sao%20Tome%20and%20Principe&names=Saudi%20Arabia&names=Senegal&names=Serbia&names=Seychelles&names=Sierra%20Leone&names=Singapore&names=Slovakia&names=Slovenia&names=Solomon%20Islands&names=Somalia&names=South%20Africa&names=South%20Sudan&names=Spain&names=Sri%20Lanka&names=Sudan&names=Suriname&names=Sweden&names=Switzerland&names=Syrian%20Arab%20Republic&names=Taiwan%20(Province%20of%20China)&names=Tajikistan&names=Thailand&names=Timor-Leste&names=Togo&names=Tokelau&names=Tonga&names=Trinidad%20and%20Tobago&names=Tunisia&names=Turkey&names=Turkmenistan&names=Tuvalu&names=Uganda&names=Ukraine&names=United%20Arab%20Emirates&names=United%20Kingdom&names=United%20Republic%20of%20Tanzania&names=United%20States%20of%20America&names=United%20States%20Virgin%20Islands&names=Uruguay&names=Uzbekistan&names=Vanuatu&names=Venezuela%20(Bolivarian%20Republic%20of)&names=Viet%20Nam&names=Yemen&names=Zambia&names=Zimbabwe\"\n",
    "aq_hap=pd.read_csv(url)\n",
    "df_rename_columns(aq_hap)\n",
    "df_replace_columns(aq_hap)\n",
    "df_to_numeric(aq_hap)\n",
    "aq_hap=aq_hap.dropna()\n",
    "#print(aq_hap.dtypes)\n",
    "#aq_hap.head()"
   ]
  },
  {
   "cell_type": "code",
   "execution_count": 32,
   "metadata": {},
   "outputs": [],
   "source": [
    "#read and prep data\n",
    "url=\"https://data.zevross.com/hei-test/globalburden-2020/v1/burdens/country/find.csv?pollutant=pm25&type=country&measure=death&metric=number&region=country&names=Afghanistan&names=Afghanistan&names=Albania&names=Algeria&names=American%20Samoa&names=Andorra&names=Angola&names=Antigua%20and%20Barbuda&names=Argentina&names=Armenia&names=Australia&names=Austria&names=Azerbaijan&names=Bahamas&names=Bahrain&names=Bangladesh&names=Barbados&names=Belarus&names=Belgium&names=Belize&names=Benin&names=Bermuda&names=Bhutan&names=Bolivia%20(Plurinational%20State%20of)&names=Bosnia%20and%20Herzegovina&names=Botswana&names=Brazil&names=Brunei%20Darussalam&names=Bulgaria&names=Burkina%20Faso&names=Burundi&names=Cabo%20Verde&names=Cambodia&names=Cameroon&names=Canada&names=Central%20African%20Republic&names=Chad&names=Chile&names=China&names=Colombia&names=Comoros&names=Congo&names=Cook%20Islands&names=Costa%20Rica&names=C%C3%B4te%20d%27Ivoire&names=Croatia&names=Cuba&names=Cyprus&names=Czechia&names=Democratic%20People%27s%20Republic%20of%20Korea&names=Democratic%20Republic%20of%20the%20Congo&names=Denmark&names=Djibouti&names=Dominica&names=Dominican%20Republic&names=Ecuador&names=Egypt&names=El%20Salvador&names=Equatorial%20Guinea&names=Eritrea&names=Estonia&names=Eswatini&names=Ethiopia&names=Fiji&names=Finland&names=France&names=Gabon&names=Gambia&names=Georgia&names=Germany&names=Ghana&names=Greece&names=Greenland&names=Grenada&names=Guam&names=Guatemala&names=Guinea&names=Guinea-Bissau&names=Guyana&names=Haiti&names=Honduras&names=Hungary&names=Iceland&names=India&names=Indonesia&names=Iran%20(Islamic%20Republic%20of)&names=Iraq&names=Ireland&names=Israel&names=Italy&names=Jamaica&names=Japan&names=Jordan&names=Kazakhstan&names=Kenya&names=Kiribati&names=Kuwait&names=Kyrgyzstan&names=Lao%20People%27s%20Democratic%20Republic&names=Latvia&names=Lebanon&names=Lesotho&names=Liberia&names=Libya&names=Lithuania&names=Luxembourg&names=Madagascar&names=Malawi&names=Malaysia&names=Maldives&names=Mali&names=Malta&names=Marshall%20Islands&names=Mauritania&names=Mauritius&names=Mexico&names=Micronesia%20(Federated%20States%20of)&names=Monaco&names=Mongolia&names=Montenegro&names=Morocco&names=Mozambique&names=Myanmar&names=Namibia&names=Nauru&names=Nepal&names=Netherlands&names=New%20Zealand&names=Nicaragua&names=Niger&names=Nigeria&names=Niue&names=Northern%20Mariana%20Islands&names=North%20Macedonia&names=Norway&names=Oman&names=Pakistan&names=Palau&names=Palestine&names=Panama&names=Papua%20New%20Guinea&names=Paraguay&names=Peru&names=Philippines&names=Poland&names=Portugal&names=Puerto%20Rico&names=Qatar&names=Republic%20of%20Korea&names=Republic%20of%20Moldova&names=Romania&names=Russian%20Federation&names=Rwanda&names=Saint%20Kitts%20and%20Nevis&names=Saint%20Lucia&names=Saint%20Vincent%20and%20the%20Grenadines&names=Samoa&names=San%20Marino&names=Sao%20Tome%20and%20Principe&names=Saudi%20Arabia&names=Senegal&names=Serbia&names=Seychelles&names=Sierra%20Leone&names=Singapore&names=Slovakia&names=Slovenia&names=Solomon%20Islands&names=Somalia&names=South%20Africa&names=South%20Sudan&names=Spain&names=Sri%20Lanka&names=Sudan&names=Suriname&names=Sweden&names=Switzerland&names=Syrian%20Arab%20Republic&names=Taiwan%20(Province%20of%20China)&names=Tajikistan&names=Thailand&names=Timor-Leste&names=Togo&names=Tokelau&names=Tonga&names=Trinidad%20and%20Tobago&names=Tunisia&names=Turkey&names=Turkmenistan&names=Tuvalu&names=Uganda&names=Ukraine&names=United%20Arab%20Emirates&names=United%20Kingdom&names=United%20Republic%20of%20Tanzania&names=United%20States%20of%20America&names=United%20States%20Virgin%20Islands&names=Uruguay&names=Uzbekistan&names=Vanuatu&names=Venezuela%20(Bolivarian%20Republic%20of)&names=Viet%20Nam&names=Yemen&names=Zambia&names=Zimbabwe\"\n",
    "death_number_pm25=pd.read_csv(url)\n",
    "df_rename_columns(death_number_pm25)\n",
    "df_replace_columns(death_number_pm25)\n",
    "df_to_numeric(death_number_pm25)\n",
    "death_number_pm25=death_number_pm25.dropna()\n",
    "#print(death_number_pm25.dtypes)\n",
    "#death_number_pm25.head()"
   ]
  },
  {
   "cell_type": "code",
   "execution_count": 33,
   "metadata": {},
   "outputs": [],
   "source": [
    "#read and prep data\n",
    "url=\"https://data.zevross.com/hei-test/globalburden-2020/v1/burdens/country/find.csv?pollutant=ozone&type=country&measure=death&metric=number&region=country&names=Afghanistan&names=Afghanistan&names=Albania&names=Algeria&names=American%20Samoa&names=Andorra&names=Angola&names=Antigua%20and%20Barbuda&names=Argentina&names=Armenia&names=Australia&names=Austria&names=Azerbaijan&names=Bahamas&names=Bahrain&names=Bangladesh&names=Barbados&names=Belarus&names=Belgium&names=Belize&names=Benin&names=Bermuda&names=Bhutan&names=Bolivia%20(Plurinational%20State%20of)&names=Bosnia%20and%20Herzegovina&names=Botswana&names=Brazil&names=Brunei%20Darussalam&names=Bulgaria&names=Burkina%20Faso&names=Burundi&names=Cabo%20Verde&names=Cambodia&names=Cameroon&names=Canada&names=Central%20African%20Republic&names=Chad&names=Chile&names=China&names=Colombia&names=Comoros&names=Congo&names=Cook%20Islands&names=Costa%20Rica&names=C%C3%B4te%20d%27Ivoire&names=Croatia&names=Cuba&names=Cyprus&names=Czechia&names=Democratic%20People%27s%20Republic%20of%20Korea&names=Democratic%20Republic%20of%20the%20Congo&names=Denmark&names=Djibouti&names=Dominica&names=Dominican%20Republic&names=Ecuador&names=Egypt&names=El%20Salvador&names=Equatorial%20Guinea&names=Eritrea&names=Estonia&names=Eswatini&names=Ethiopia&names=Fiji&names=Finland&names=France&names=Gabon&names=Gambia&names=Georgia&names=Germany&names=Ghana&names=Greece&names=Greenland&names=Grenada&names=Guam&names=Guatemala&names=Guinea&names=Guinea-Bissau&names=Guyana&names=Haiti&names=Honduras&names=Hungary&names=Iceland&names=India&names=Indonesia&names=Iran%20(Islamic%20Republic%20of)&names=Iraq&names=Ireland&names=Israel&names=Italy&names=Jamaica&names=Japan&names=Jordan&names=Kazakhstan&names=Kenya&names=Kiribati&names=Kuwait&names=Kyrgyzstan&names=Lao%20People%27s%20Democratic%20Republic&names=Latvia&names=Lebanon&names=Lesotho&names=Liberia&names=Libya&names=Lithuania&names=Luxembourg&names=Madagascar&names=Malawi&names=Malaysia&names=Maldives&names=Mali&names=Malta&names=Marshall%20Islands&names=Mauritania&names=Mauritius&names=Mexico&names=Micronesia%20(Federated%20States%20of)&names=Monaco&names=Mongolia&names=Montenegro&names=Morocco&names=Mozambique&names=Myanmar&names=Namibia&names=Nauru&names=Nepal&names=Netherlands&names=New%20Zealand&names=Nicaragua&names=Niger&names=Nigeria&names=Niue&names=Northern%20Mariana%20Islands&names=North%20Macedonia&names=Norway&names=Oman&names=Pakistan&names=Palau&names=Palestine&names=Panama&names=Papua%20New%20Guinea&names=Paraguay&names=Peru&names=Philippines&names=Poland&names=Portugal&names=Puerto%20Rico&names=Qatar&names=Republic%20of%20Korea&names=Republic%20of%20Moldova&names=Romania&names=Russian%20Federation&names=Rwanda&names=Saint%20Kitts%20and%20Nevis&names=Saint%20Lucia&names=Saint%20Vincent%20and%20the%20Grenadines&names=Samoa&names=San%20Marino&names=Sao%20Tome%20and%20Principe&names=Saudi%20Arabia&names=Senegal&names=Serbia&names=Seychelles&names=Sierra%20Leone&names=Singapore&names=Slovakia&names=Slovenia&names=Solomon%20Islands&names=Somalia&names=South%20Africa&names=South%20Sudan&names=Spain&names=Sri%20Lanka&names=Sudan&names=Suriname&names=Sweden&names=Switzerland&names=Syrian%20Arab%20Republic&names=Taiwan%20(Province%20of%20China)&names=Tajikistan&names=Thailand&names=Timor-Leste&names=Togo&names=Tokelau&names=Tonga&names=Trinidad%20and%20Tobago&names=Tunisia&names=Turkey&names=Turkmenistan&names=Tuvalu&names=Uganda&names=Ukraine&names=United%20Arab%20Emirates&names=United%20Kingdom&names=United%20Republic%20of%20Tanzania&names=United%20States%20of%20America&names=United%20States%20Virgin%20Islands&names=Uruguay&names=Uzbekistan&names=Vanuatu&names=Venezuela%20(Bolivarian%20Republic%20of)&names=Viet%20Nam&names=Yemen&names=Zambia&names=Zimbabwe\"\n",
    "death_number_o3=pd.read_csv(url)\n",
    "df_rename_columns(death_number_o3)\n",
    "df_replace_columns(death_number_o3)\n",
    "df_to_numeric(death_number_o3)\n",
    "death_number_o3=death_number_o3.dropna()\n",
    "#print(death_number_o3.dtypes)\n",
    "#death_number_o3.head()"
   ]
  },
  {
   "cell_type": "code",
   "execution_count": 34,
   "metadata": {},
   "outputs": [],
   "source": [
    "#read and prep data\n",
    "url=\"https://data.zevross.com/hei-test/globalburden-2020/v1/burdens/country/find.csv?pollutant=hap&type=country&measure=death&metric=number&region=country&names=Afghanistan&names=Afghanistan&names=Albania&names=Algeria&names=American%20Samoa&names=Andorra&names=Angola&names=Antigua%20and%20Barbuda&names=Argentina&names=Armenia&names=Australia&names=Austria&names=Azerbaijan&names=Bahamas&names=Bahrain&names=Bangladesh&names=Barbados&names=Belarus&names=Belgium&names=Belize&names=Benin&names=Bermuda&names=Bhutan&names=Bolivia%20(Plurinational%20State%20of)&names=Bosnia%20and%20Herzegovina&names=Botswana&names=Brazil&names=Brunei%20Darussalam&names=Bulgaria&names=Burkina%20Faso&names=Burundi&names=Cabo%20Verde&names=Cambodia&names=Cameroon&names=Canada&names=Central%20African%20Republic&names=Chad&names=Chile&names=China&names=Colombia&names=Comoros&names=Congo&names=Cook%20Islands&names=Costa%20Rica&names=C%C3%B4te%20d%27Ivoire&names=Croatia&names=Cuba&names=Cyprus&names=Czechia&names=Democratic%20People%27s%20Republic%20of%20Korea&names=Democratic%20Republic%20of%20the%20Congo&names=Denmark&names=Djibouti&names=Dominica&names=Dominican%20Republic&names=Ecuador&names=Egypt&names=El%20Salvador&names=Equatorial%20Guinea&names=Eritrea&names=Estonia&names=Eswatini&names=Ethiopia&names=Fiji&names=Finland&names=France&names=Gabon&names=Gambia&names=Georgia&names=Germany&names=Ghana&names=Greece&names=Greenland&names=Grenada&names=Guam&names=Guatemala&names=Guinea&names=Guinea-Bissau&names=Guyana&names=Haiti&names=Honduras&names=Hungary&names=Iceland&names=India&names=Indonesia&names=Iran%20(Islamic%20Republic%20of)&names=Iraq&names=Ireland&names=Israel&names=Italy&names=Jamaica&names=Japan&names=Jordan&names=Kazakhstan&names=Kenya&names=Kiribati&names=Kuwait&names=Kyrgyzstan&names=Lao%20People%27s%20Democratic%20Republic&names=Latvia&names=Lebanon&names=Lesotho&names=Liberia&names=Libya&names=Lithuania&names=Luxembourg&names=Madagascar&names=Malawi&names=Malaysia&names=Maldives&names=Mali&names=Malta&names=Marshall%20Islands&names=Mauritania&names=Mauritius&names=Mexico&names=Micronesia%20(Federated%20States%20of)&names=Monaco&names=Mongolia&names=Montenegro&names=Morocco&names=Mozambique&names=Myanmar&names=Namibia&names=Nauru&names=Nepal&names=Netherlands&names=New%20Zealand&names=Nicaragua&names=Niger&names=Nigeria&names=Niue&names=Northern%20Mariana%20Islands&names=North%20Macedonia&names=Norway&names=Oman&names=Pakistan&names=Palau&names=Palestine&names=Panama&names=Papua%20New%20Guinea&names=Paraguay&names=Peru&names=Philippines&names=Poland&names=Portugal&names=Puerto%20Rico&names=Qatar&names=Republic%20of%20Korea&names=Republic%20of%20Moldova&names=Romania&names=Russian%20Federation&names=Rwanda&names=Saint%20Kitts%20and%20Nevis&names=Saint%20Lucia&names=Saint%20Vincent%20and%20the%20Grenadines&names=Samoa&names=San%20Marino&names=Sao%20Tome%20and%20Principe&names=Saudi%20Arabia&names=Senegal&names=Serbia&names=Seychelles&names=Sierra%20Leone&names=Singapore&names=Slovakia&names=Slovenia&names=Solomon%20Islands&names=Somalia&names=South%20Africa&names=South%20Sudan&names=Spain&names=Sri%20Lanka&names=Sudan&names=Suriname&names=Sweden&names=Switzerland&names=Syrian%20Arab%20Republic&names=Taiwan%20(Province%20of%20China)&names=Tajikistan&names=Thailand&names=Timor-Leste&names=Togo&names=Tokelau&names=Tonga&names=Trinidad%20and%20Tobago&names=Tunisia&names=Turkey&names=Turkmenistan&names=Tuvalu&names=Uganda&names=Ukraine&names=United%20Arab%20Emirates&names=United%20Kingdom&names=United%20Republic%20of%20Tanzania&names=United%20States%20of%20America&names=United%20States%20Virgin%20Islands&names=Uruguay&names=Uzbekistan&names=Vanuatu&names=Venezuela%20(Bolivarian%20Republic%20of)&names=Viet%20Nam&names=Yemen&names=Zambia&names=Zimbabwe\"\n",
    "death_number_hap=pd.read_csv(url)\n",
    "df_rename_columns(death_number_hap)\n",
    "df_replace_columns(death_number_hap)\n",
    "df_to_numeric(death_number_hap)\n",
    "death_number_hap=death_number_hap.dropna()\n",
    "#print(death_number_hap.dtypes)\n",
    "#death_number_hap.head()"
   ]
  },
  {
   "cell_type": "code",
   "execution_count": 35,
   "metadata": {},
   "outputs": [],
   "source": [
    "#read and prep data\n",
    "url=\"https://data.zevross.com/hei-test/globalburden-2020/v1/burdens/country/find.csv?pollutant=airpoll&type=country&measure=death&metric=number&region=country&names=Afghanistan&names=Afghanistan&names=Albania&names=Algeria&names=American%20Samoa&names=Andorra&names=Angola&names=Antigua%20and%20Barbuda&names=Argentina&names=Armenia&names=Australia&names=Austria&names=Azerbaijan&names=Bahamas&names=Bahrain&names=Bangladesh&names=Barbados&names=Belarus&names=Belgium&names=Belize&names=Benin&names=Bermuda&names=Bhutan&names=Bolivia%20(Plurinational%20State%20of)&names=Bosnia%20and%20Herzegovina&names=Botswana&names=Brazil&names=Brunei%20Darussalam&names=Bulgaria&names=Burkina%20Faso&names=Burundi&names=Cabo%20Verde&names=Cambodia&names=Cameroon&names=Canada&names=Central%20African%20Republic&names=Chad&names=Chile&names=China&names=Colombia&names=Comoros&names=Congo&names=Cook%20Islands&names=Costa%20Rica&names=C%C3%B4te%20d%27Ivoire&names=Croatia&names=Cuba&names=Cyprus&names=Czechia&names=Democratic%20People%27s%20Republic%20of%20Korea&names=Democratic%20Republic%20of%20the%20Congo&names=Denmark&names=Djibouti&names=Dominica&names=Dominican%20Republic&names=Ecuador&names=Egypt&names=El%20Salvador&names=Equatorial%20Guinea&names=Eritrea&names=Estonia&names=Eswatini&names=Ethiopia&names=Fiji&names=Finland&names=France&names=Gabon&names=Gambia&names=Georgia&names=Germany&names=Ghana&names=Greece&names=Greenland&names=Grenada&names=Guam&names=Guatemala&names=Guinea&names=Guinea-Bissau&names=Guyana&names=Haiti&names=Honduras&names=Hungary&names=Iceland&names=India&names=Indonesia&names=Iran%20(Islamic%20Republic%20of)&names=Iraq&names=Ireland&names=Israel&names=Italy&names=Jamaica&names=Japan&names=Jordan&names=Kazakhstan&names=Kenya&names=Kiribati&names=Kuwait&names=Kyrgyzstan&names=Lao%20People%27s%20Democratic%20Republic&names=Latvia&names=Lebanon&names=Lesotho&names=Liberia&names=Libya&names=Lithuania&names=Luxembourg&names=Madagascar&names=Malawi&names=Malaysia&names=Maldives&names=Mali&names=Malta&names=Marshall%20Islands&names=Mauritania&names=Mauritius&names=Mexico&names=Micronesia%20(Federated%20States%20of)&names=Monaco&names=Mongolia&names=Montenegro&names=Morocco&names=Mozambique&names=Myanmar&names=Namibia&names=Nauru&names=Nepal&names=Netherlands&names=New%20Zealand&names=Nicaragua&names=Niger&names=Nigeria&names=Niue&names=Northern%20Mariana%20Islands&names=North%20Macedonia&names=Norway&names=Oman&names=Pakistan&names=Palau&names=Palestine&names=Panama&names=Papua%20New%20Guinea&names=Paraguay&names=Peru&names=Philippines&names=Poland&names=Portugal&names=Puerto%20Rico&names=Qatar&names=Republic%20of%20Korea&names=Republic%20of%20Moldova&names=Romania&names=Russian%20Federation&names=Rwanda&names=Saint%20Kitts%20and%20Nevis&names=Saint%20Lucia&names=Saint%20Vincent%20and%20the%20Grenadines&names=Samoa&names=San%20Marino&names=Sao%20Tome%20and%20Principe&names=Saudi%20Arabia&names=Senegal&names=Serbia&names=Seychelles&names=Sierra%20Leone&names=Singapore&names=Slovakia&names=Slovenia&names=Solomon%20Islands&names=Somalia&names=South%20Africa&names=South%20Sudan&names=Spain&names=Sri%20Lanka&names=Sudan&names=Suriname&names=Sweden&names=Switzerland&names=Syrian%20Arab%20Republic&names=Taiwan%20(Province%20of%20China)&names=Tajikistan&names=Thailand&names=Timor-Leste&names=Togo&names=Tokelau&names=Tonga&names=Trinidad%20and%20Tobago&names=Tunisia&names=Turkey&names=Turkmenistan&names=Tuvalu&names=Uganda&names=Ukraine&names=United%20Arab%20Emirates&names=United%20Kingdom&names=United%20Republic%20of%20Tanzania&names=United%20States%20of%20America&names=United%20States%20Virgin%20Islands&names=Uruguay&names=Uzbekistan&names=Vanuatu&names=Venezuela%20(Bolivarian%20Republic%20of)&names=Viet%20Nam&names=Yemen&names=Zambia&names=Zimbabwe\"\n",
    "death_number_air=pd.read_csv(url)\n",
    "df_rename_columns(death_number_air)\n",
    "df_replace_columns(death_number_air)\n",
    "df_to_numeric(death_number_air)\n",
    "death_number_air=death_number_air.dropna()\n",
    "#print(death_number_air.dtypes)\n",
    "#death_number_air.head()"
   ]
  },
  {
   "cell_type": "code",
   "execution_count": 36,
   "metadata": {
    "scrolled": true
   },
   "outputs": [],
   "source": [
    "#read and prep data\n",
    "url=\"https://www.epa.gov/sites/production/files/2021-03/national_tier1_caps.xlsx\"\n",
    "co_air_pollution=pd.read_excel(url,sheet_name='CO',skiprows = range(1,5),header=1)\n",
    "co_air_pollution_fil = co_air_pollution.loc[co_air_pollution['Source Category'] == 'Total']\n",
    "co_air_pollution_fil_rm = co_air_pollution_fil.drop_duplicates(subset='Source Category', keep='last')\n",
    "co_air_pollution_fil_rm = co_air_pollution_fil_rm.copy()\n",
    "co_air_pollution_fil_rm[[1970,1975,1980]]=co_air_pollution_fil_rm[[1970,1975,1980]].astype(np.float).astype(\"float\")\n",
    "#print(co_air_pollution_fil_rm.dtypes)\n",
    "#co_air_pollution_fil_rm\n",
    "\n",
    "nox_air_pollution=pd.read_excel(url,sheet_name='NOX',skiprows = range(1,5),header=1)\n",
    "nox_air_pollution = nox_air_pollution.loc[nox_air_pollution['Source Category'] == 'Total']\n",
    "nox_air_pollution_fil_rm = nox_air_pollution.drop_duplicates(subset='Source Category', keep='last')\n",
    "nox_air_pollution_fil_rm = nox_air_pollution_fil_rm.copy()\n",
    "nox_air_pollution_fil_rm[[1970,1975,1980,1985]]=nox_air_pollution_fil_rm[[1970,1975,1980,1985]].astype(np.float).astype(\"float\")\n",
    "#print(nox_air_pollution_fil_rm.dtypes)\n",
    "#nox_air_pollution_fil_rm\n",
    "\n",
    "pm10_air_pollution=pd.read_excel(url,sheet_name='PM10Primary',skiprows = range(1,5),header=1)\n",
    "pm10_air_pollution = pm10_air_pollution.loc[pm10_air_pollution['Source Category'] == 'Total']\n",
    "pm10_air_pollution_fil_rm = pm10_air_pollution.drop_duplicates(subset='Source Category', keep='last')\n",
    "pm10_air_pollution_fil_rm = pm10_air_pollution_fil_rm.copy()\n",
    "pm10_air_pollution_fil_rm[[1970,1975,1980,1985]]=pm10_air_pollution_fil_rm[[1970,1975,1980,1985]].astype(np.float).astype(\"float\")\n",
    "#print(pm10_air_pollution_fil_rm.dtypes)\n",
    "#pm10_air_pollution_fil_rm\n",
    "\n",
    "pm25_air_pollution=pd.read_excel(url,sheet_name='PM25Primary',skiprows = range(1,5),header=1)\n",
    "pm25_air_pollution = pm25_air_pollution.loc[pm25_air_pollution['Source Category'] == 'Total']\n",
    "pm25_air_pollution_fil_rm = pm25_air_pollution.drop_duplicates(subset='Source Category', keep='last')\n",
    "#print(pm10_air_pollution_fil_rm.dtypes)\n",
    "#pm10_air_pollution_fil_rm\n",
    "\n",
    "so2_air_pollution=pd.read_excel(url,sheet_name='SO2',skiprows = range(1,5),header=1)\n",
    "so2_air_pollution = so2_air_pollution.loc[so2_air_pollution['Source Category'] == 'Total']\n",
    "so2_air_pollution_fil_rm = so2_air_pollution.drop_duplicates(subset='Source Category', keep='last')\n",
    "so2_air_pollution_fil_rm = so2_air_pollution_fil_rm.copy()\n",
    "so2_air_pollution_fil_rm[[1970,1975,1980,1985]]=so2_air_pollution_fil_rm[[1970,1975,1980,1985]].astype(np.float).astype(\"float\")\n",
    "#print(so2_air_pollution_fil_rm.dtypes)\n",
    "#so2_air_pollution_fil_rm\n",
    "\n",
    "voc_air_pollution=pd.read_excel(url,sheet_name='VOC',skiprows = range(1,5),header=1)\n",
    "voc_air_pollution = voc_air_pollution.loc[voc_air_pollution['Source Category'] == 'Total']\n",
    "voc_air_pollution_fil_rm = voc_air_pollution.drop_duplicates(subset='Source Category', keep='last')\n",
    "#voc_air_pollution_fil_rm = voc_air_pollution_fil_rm.copy()\n",
    "#voc_air_pollution_fil_rm[[1970,1975,1980,1985]]=voc_air_pollution_fil_rm[[1970,1975,1980,1985]].astype(np.float).astype(\"float\")\n",
    "#print(voc_air_pollution_fil_rm.dtypes)\n",
    "#voc_air_pollution_fil_rm\n",
    "\n",
    "nh3_air_pollution=pd.read_excel(url,sheet_name='NH3',skiprows = range(1,6),header=1)\n",
    "nh3_air_pollution = nh3_air_pollution.loc[nh3_air_pollution['Source Category'] == 'Total']\n",
    "nh3_air_pollution_fil_rm = nh3_air_pollution.drop_duplicates(subset='Source Category', keep='last')\n",
    "nh3_air_pollution_fil_rm = nh3_air_pollution_fil_rm.copy()\n",
    "nh3_air_pollution_fil_rm[[1990,1991,1992,1993,1994,1995]]=nh3_air_pollution_fil_rm[[1990,1991,1992,1993,1994,1995]].astype(np.float).astype(\"float\")\n",
    "#print(nh3_air_pollution_fil_rm.dtypes)\n",
    "#nh3_air_pollution_fil_rm"
   ]
  },
  {
   "cell_type": "code",
   "execution_count": 37,
   "metadata": {},
   "outputs": [
    {
     "ename": "KeyError",
     "evalue": "'Year'",
     "output_type": "error",
     "traceback": [
      "\u001b[0;31m---------------------------------------------------------------------------\u001b[0m",
      "\u001b[0;31mKeyError\u001b[0m                                  Traceback (most recent call last)",
      "\u001b[0;32m~/opt/anaconda3/lib/python3.8/site-packages/pandas/core/indexes/base.py\u001b[0m in \u001b[0;36mget_loc\u001b[0;34m(self, key, method, tolerance)\u001b[0m\n\u001b[1;32m   2894\u001b[0m             \u001b[0;32mtry\u001b[0m\u001b[0;34m:\u001b[0m\u001b[0;34m\u001b[0m\u001b[0;34m\u001b[0m\u001b[0m\n\u001b[0;32m-> 2895\u001b[0;31m                 \u001b[0;32mreturn\u001b[0m \u001b[0mself\u001b[0m\u001b[0;34m.\u001b[0m\u001b[0m_engine\u001b[0m\u001b[0;34m.\u001b[0m\u001b[0mget_loc\u001b[0m\u001b[0;34m(\u001b[0m\u001b[0mcasted_key\u001b[0m\u001b[0;34m)\u001b[0m\u001b[0;34m\u001b[0m\u001b[0;34m\u001b[0m\u001b[0m\n\u001b[0m\u001b[1;32m   2896\u001b[0m             \u001b[0;32mexcept\u001b[0m \u001b[0mKeyError\u001b[0m \u001b[0;32mas\u001b[0m \u001b[0merr\u001b[0m\u001b[0;34m:\u001b[0m\u001b[0;34m\u001b[0m\u001b[0;34m\u001b[0m\u001b[0m\n",
      "\u001b[0;32mpandas/_libs/index.pyx\u001b[0m in \u001b[0;36mpandas._libs.index.IndexEngine.get_loc\u001b[0;34m()\u001b[0m\n",
      "\u001b[0;32mpandas/_libs/index.pyx\u001b[0m in \u001b[0;36mpandas._libs.index.IndexEngine.get_loc\u001b[0;34m()\u001b[0m\n",
      "\u001b[0;32mpandas/_libs/hashtable_class_helper.pxi\u001b[0m in \u001b[0;36mpandas._libs.hashtable.PyObjectHashTable.get_item\u001b[0;34m()\u001b[0m\n",
      "\u001b[0;32mpandas/_libs/hashtable_class_helper.pxi\u001b[0m in \u001b[0;36mpandas._libs.hashtable.PyObjectHashTable.get_item\u001b[0;34m()\u001b[0m\n",
      "\u001b[0;31mKeyError\u001b[0m: 'Year'",
      "\nThe above exception was the direct cause of the following exception:\n",
      "\u001b[0;31mKeyError\u001b[0m                                  Traceback (most recent call last)",
      "\u001b[0;32m<ipython-input-37-0fcded88f23c>\u001b[0m in \u001b[0;36m<module>\u001b[0;34m\u001b[0m\n\u001b[1;32m      1\u001b[0m \u001b[0mfig_em\u001b[0m \u001b[0;34m=\u001b[0m \u001b[0mpx\u001b[0m\u001b[0;34m.\u001b[0m\u001b[0mline\u001b[0m\u001b[0;34m(\u001b[0m\u001b[0mtitle\u001b[0m\u001b[0;34m=\u001b[0m\u001b[0;34m'Emissions of air pollutants, United States 1970 to 2020'\u001b[0m\u001b[0;34m)\u001b[0m\u001b[0;34m\u001b[0m\u001b[0;34m\u001b[0m\u001b[0m\n\u001b[0;32m----> 2\u001b[0;31m \u001b[0mfig_em\u001b[0m\u001b[0;34m.\u001b[0m\u001b[0madd_scatter\u001b[0m\u001b[0;34m(\u001b[0m\u001b[0mx\u001b[0m\u001b[0;34m=\u001b[0m\u001b[0mpm10_air_pollution_fil_rm\u001b[0m\u001b[0;34m[\u001b[0m\u001b[0;34m'Year'\u001b[0m\u001b[0;34m]\u001b[0m\u001b[0;34m,\u001b[0m \u001b[0my\u001b[0m\u001b[0;34m=\u001b[0m\u001b[0mpm10_air_pollution_fil_rm\u001b[0m\u001b[0;34m[\u001b[0m\u001b[0;34m'pm10per'\u001b[0m\u001b[0;34m]\u001b[0m\u001b[0;34m,\u001b[0m \u001b[0mmode\u001b[0m\u001b[0;34m=\u001b[0m\u001b[0;34m'markers+lines'\u001b[0m\u001b[0;34m,\u001b[0m\u001b[0mname\u001b[0m\u001b[0;34m=\u001b[0m\u001b[0;34m'PM 10'\u001b[0m\u001b[0;34m)\u001b[0m\u001b[0;34m\u001b[0m\u001b[0;34m\u001b[0m\u001b[0m\n\u001b[0m\u001b[1;32m      3\u001b[0m \u001b[0mfig_em\u001b[0m\u001b[0;34m.\u001b[0m\u001b[0madd_scatter\u001b[0m\u001b[0;34m(\u001b[0m\u001b[0mx\u001b[0m\u001b[0;34m=\u001b[0m\u001b[0mpm25_air_pollution_fil_rm\u001b[0m\u001b[0;34m[\u001b[0m\u001b[0;34m'Year'\u001b[0m\u001b[0;34m]\u001b[0m\u001b[0;34m,\u001b[0m \u001b[0my\u001b[0m\u001b[0;34m=\u001b[0m\u001b[0mpm25_air_pollution_fil_rm\u001b[0m\u001b[0;34m[\u001b[0m\u001b[0;34m'pm25per'\u001b[0m\u001b[0;34m]\u001b[0m\u001b[0;34m,\u001b[0m \u001b[0mmode\u001b[0m\u001b[0;34m=\u001b[0m\u001b[0;34m'markers+lines'\u001b[0m\u001b[0;34m,\u001b[0m\u001b[0mname\u001b[0m\u001b[0;34m=\u001b[0m\u001b[0;34m'PM 2.5'\u001b[0m\u001b[0;34m)\u001b[0m\u001b[0;34m\u001b[0m\u001b[0;34m\u001b[0m\u001b[0m\n\u001b[1;32m      4\u001b[0m \u001b[0mfig_em\u001b[0m\u001b[0;34m.\u001b[0m\u001b[0madd_scatter\u001b[0m\u001b[0;34m(\u001b[0m\u001b[0mx\u001b[0m\u001b[0;34m=\u001b[0m\u001b[0mco_air_pollution_fil_rm\u001b[0m\u001b[0;34m[\u001b[0m\u001b[0;34m'Year'\u001b[0m\u001b[0;34m]\u001b[0m\u001b[0;34m,\u001b[0m \u001b[0my\u001b[0m\u001b[0;34m=\u001b[0m\u001b[0mco_air_pollution_fil_rm\u001b[0m\u001b[0;34m[\u001b[0m\u001b[0;34m'coper'\u001b[0m\u001b[0;34m]\u001b[0m\u001b[0;34m,\u001b[0m \u001b[0mmode\u001b[0m\u001b[0;34m=\u001b[0m\u001b[0;34m'markers+lines'\u001b[0m\u001b[0;34m,\u001b[0m\u001b[0mname\u001b[0m\u001b[0;34m=\u001b[0m\u001b[0;34m'Carbon Monoxide'\u001b[0m\u001b[0;34m)\u001b[0m\u001b[0;34m\u001b[0m\u001b[0;34m\u001b[0m\u001b[0m\n\u001b[1;32m      5\u001b[0m \u001b[0mfig_em\u001b[0m\u001b[0;34m.\u001b[0m\u001b[0madd_scatter\u001b[0m\u001b[0;34m(\u001b[0m\u001b[0mx\u001b[0m\u001b[0;34m=\u001b[0m\u001b[0mnox_air_pollution_fil_rm\u001b[0m\u001b[0;34m[\u001b[0m\u001b[0;34m'Year'\u001b[0m\u001b[0;34m]\u001b[0m\u001b[0;34m,\u001b[0m \u001b[0my\u001b[0m\u001b[0;34m=\u001b[0m\u001b[0mnox_air_pollution_fil_rm\u001b[0m\u001b[0;34m[\u001b[0m\u001b[0;34m'noxper'\u001b[0m\u001b[0;34m]\u001b[0m\u001b[0;34m,\u001b[0m \u001b[0mmode\u001b[0m\u001b[0;34m=\u001b[0m\u001b[0;34m'markers+lines'\u001b[0m\u001b[0;34m,\u001b[0m\u001b[0mname\u001b[0m\u001b[0;34m=\u001b[0m\u001b[0;34m'Nitrogen Oxides'\u001b[0m\u001b[0;34m)\u001b[0m\u001b[0;34m\u001b[0m\u001b[0;34m\u001b[0m\u001b[0m\n",
      "\u001b[0;32m~/opt/anaconda3/lib/python3.8/site-packages/pandas/core/frame.py\u001b[0m in \u001b[0;36m__getitem__\u001b[0;34m(self, key)\u001b[0m\n\u001b[1;32m   2900\u001b[0m             \u001b[0;32mif\u001b[0m \u001b[0mself\u001b[0m\u001b[0;34m.\u001b[0m\u001b[0mcolumns\u001b[0m\u001b[0;34m.\u001b[0m\u001b[0mnlevels\u001b[0m \u001b[0;34m>\u001b[0m \u001b[0;36m1\u001b[0m\u001b[0;34m:\u001b[0m\u001b[0;34m\u001b[0m\u001b[0;34m\u001b[0m\u001b[0m\n\u001b[1;32m   2901\u001b[0m                 \u001b[0;32mreturn\u001b[0m \u001b[0mself\u001b[0m\u001b[0;34m.\u001b[0m\u001b[0m_getitem_multilevel\u001b[0m\u001b[0;34m(\u001b[0m\u001b[0mkey\u001b[0m\u001b[0;34m)\u001b[0m\u001b[0;34m\u001b[0m\u001b[0;34m\u001b[0m\u001b[0m\n\u001b[0;32m-> 2902\u001b[0;31m             \u001b[0mindexer\u001b[0m \u001b[0;34m=\u001b[0m \u001b[0mself\u001b[0m\u001b[0;34m.\u001b[0m\u001b[0mcolumns\u001b[0m\u001b[0;34m.\u001b[0m\u001b[0mget_loc\u001b[0m\u001b[0;34m(\u001b[0m\u001b[0mkey\u001b[0m\u001b[0;34m)\u001b[0m\u001b[0;34m\u001b[0m\u001b[0;34m\u001b[0m\u001b[0m\n\u001b[0m\u001b[1;32m   2903\u001b[0m             \u001b[0;32mif\u001b[0m \u001b[0mis_integer\u001b[0m\u001b[0;34m(\u001b[0m\u001b[0mindexer\u001b[0m\u001b[0;34m)\u001b[0m\u001b[0;34m:\u001b[0m\u001b[0;34m\u001b[0m\u001b[0;34m\u001b[0m\u001b[0m\n\u001b[1;32m   2904\u001b[0m                 \u001b[0mindexer\u001b[0m \u001b[0;34m=\u001b[0m \u001b[0;34m[\u001b[0m\u001b[0mindexer\u001b[0m\u001b[0;34m]\u001b[0m\u001b[0;34m\u001b[0m\u001b[0;34m\u001b[0m\u001b[0m\n",
      "\u001b[0;32m~/opt/anaconda3/lib/python3.8/site-packages/pandas/core/indexes/base.py\u001b[0m in \u001b[0;36mget_loc\u001b[0;34m(self, key, method, tolerance)\u001b[0m\n\u001b[1;32m   2895\u001b[0m                 \u001b[0;32mreturn\u001b[0m \u001b[0mself\u001b[0m\u001b[0;34m.\u001b[0m\u001b[0m_engine\u001b[0m\u001b[0;34m.\u001b[0m\u001b[0mget_loc\u001b[0m\u001b[0;34m(\u001b[0m\u001b[0mcasted_key\u001b[0m\u001b[0;34m)\u001b[0m\u001b[0;34m\u001b[0m\u001b[0;34m\u001b[0m\u001b[0m\n\u001b[1;32m   2896\u001b[0m             \u001b[0;32mexcept\u001b[0m \u001b[0mKeyError\u001b[0m \u001b[0;32mas\u001b[0m \u001b[0merr\u001b[0m\u001b[0;34m:\u001b[0m\u001b[0;34m\u001b[0m\u001b[0;34m\u001b[0m\u001b[0m\n\u001b[0;32m-> 2897\u001b[0;31m                 \u001b[0;32mraise\u001b[0m \u001b[0mKeyError\u001b[0m\u001b[0;34m(\u001b[0m\u001b[0mkey\u001b[0m\u001b[0;34m)\u001b[0m \u001b[0;32mfrom\u001b[0m \u001b[0merr\u001b[0m\u001b[0;34m\u001b[0m\u001b[0;34m\u001b[0m\u001b[0m\n\u001b[0m\u001b[1;32m   2898\u001b[0m \u001b[0;34m\u001b[0m\u001b[0m\n\u001b[1;32m   2899\u001b[0m         \u001b[0;32mif\u001b[0m \u001b[0mtolerance\u001b[0m \u001b[0;32mis\u001b[0m \u001b[0;32mnot\u001b[0m \u001b[0;32mNone\u001b[0m\u001b[0;34m:\u001b[0m\u001b[0;34m\u001b[0m\u001b[0;34m\u001b[0m\u001b[0m\n",
      "\u001b[0;31mKeyError\u001b[0m: 'Year'"
     ]
    }
   ],
   "source": [
    "fig_em = px.line(title='Emissions of air pollutants, United States 1970 to 2020')\n",
    "fig_em.add_scatter(x=pm10_air_pollution_fil_rm['Year'], y=pm10_air_pollution_fil_rm['pm10per'], mode='markers+lines',name='PM 10')\n",
    "fig_em.add_scatter(x=pm25_air_pollution_fil_rm['Year'], y=pm25_air_pollution_fil_rm['pm25per'], mode='markers+lines',name='PM 2.5')\n",
    "fig_em.add_scatter(x=co_air_pollution_fil_rm['Year'], y=co_air_pollution_fil_rm['coper'], mode='markers+lines',name='Carbon Monoxide')\n",
    "fig_em.add_scatter(x=nox_air_pollution_fil_rm['Year'], y=nox_air_pollution_fil_rm['noxper'], mode='markers+lines',name='Nitrogen Oxides')\n",
    "fig_em.add_scatter(x=so2_air_pollution_fil_rm['Year'], y=so2_air_pollution_fil_rm['so2per'], mode='markers+lines',name='Sulphur dioxide')\n",
    "fig_em.add_scatter(x=voc_air_pollution_fil_rm['Year'], y=voc_air_pollution_fil_rm['vocper'], mode='markers+lines',name='Volatile organic Compounds(VOC)')\n",
    "fig_em.add_scatter(x=nh3_air_pollution_fil_rm['Year'], y=nh3_air_pollution_fil_rm['nh3per'], mode='markers+lines',name='Ammonia')\n",
    "fig_em.show()"
   ]
  },
  {
   "cell_type": "code",
   "execution_count": null,
   "metadata": {
    "scrolled": true
   },
   "outputs": [],
   "source": [
    "import chart_studio.plotly as pl\n",
    "import plotly.graph_objs as gobj\n",
    "import pandas as pd\n",
    "from plotly.offline import download_plotlyjs,init_notebook_mode,plot,iplot\n",
    "init_notebook_mode(connected=True)\n",
    "import plotly.express as px\n"
   ]
  },
  {
   "cell_type": "code",
   "execution_count": null,
   "metadata": {},
   "outputs": [],
   "source": [
    "fig = px.choropleth(aq_pm25,\n",
    "                    locations =\"ISO3\",\n",
    "                    color =\"Exposure Mean\",\n",
    "                    hover_name =\"Country\", \n",
    "                    color_continuous_scale = px.colors.sequential.Rainbow,\n",
    "                    scope =\"world\",\n",
    "                    animation_frame =\"Year\"\n",
    "                   )\n",
    "fig.update_layout(\n",
    "    title_text = 'Global Particulate matter air pollution ug/m3',\n",
    "    title_x = 0.5,\n",
    "    geo=dict(\n",
    "        showframe = False,\n",
    "        showcoastlines = False,\n",
    "    ))\n",
    "fig.show()"
   ]
  },
  {
   "cell_type": "code",
   "execution_count": null,
   "metadata": {},
   "outputs": [],
   "source": [
    "death_rate_air.head()"
   ]
  },
  {
   "cell_type": "code",
   "execution_count": null,
   "metadata": {},
   "outputs": [],
   "source": [
    "fig1 = px.choropleth(death_rate_air,\n",
    "                    locations =\"ISO3\",\n",
    "                    color =\"Exposure Mean\",\n",
    "                    hover_name =\"Country\", \n",
    "                    color_continuous_scale = px.colors.sequential.Rainbow,\n",
    "                    scope =\"world\",\n",
    "                    animation_frame =\"Year\"\n",
    "                   )\n",
    "fig1.update_layout(\n",
    "    title_text = 'Death Rates From Air Pollution',\n",
    "    title_x = 0.5,\n",
    "    geo=dict(\n",
    "        showframe = False,\n",
    "        showcoastlines = False,\n",
    "    ))\n",
    "fig1.show()"
   ]
  },
  {
   "cell_type": "code",
   "execution_count": null,
   "metadata": {},
   "outputs": [],
   "source": [
    "mean_death_rate_air = death_rate_air.groupby(\"Year\").mean().reset_index()\n",
    "mean_death_rate_hap = death_rate_hap.groupby(\"Year\").mean().reset_index()\n",
    "mean_death_rate_pm25 = death_rate_pm25.groupby(\"Year\").mean().reset_index()\n",
    "mean_death_rate_oz = death_rate_oz.groupby(\"Year\").mean().reset_index()\n",
    "\n",
    "fig = px.line(title='death rate')\n",
    "fig.add_scatter(x=mean_death_rate_air['Year'], y=mean_death_rate_air['Exposure Mean'], mode='markers+lines',name='mean_death_rate_air')\n",
    "fig.add_scatter(x=mean_death_rate_hap['Year'], y=mean_death_rate_hap['Exposure Mean'], mode='markers+lines',name='mean_death_rate_hap')\n",
    "fig.add_scatter(x=mean_death_rate_pm25['Year'], y=mean_death_rate_pm25['Exposure Mean'], mode='markers+lines',name='mean_death_rate_pm25')\n",
    "fig.add_scatter(x=mean_death_rate_oz['Year'], y=mean_death_rate_oz['Exposure Mean'], mode='markers+lines',name='mean_death_rate_oz')\n",
    "fig.show()"
   ]
  },
  {
   "cell_type": "code",
   "execution_count": null,
   "metadata": {},
   "outputs": [],
   "source": [
    "#to be removed\n",
    "#filter data and prep list\n",
    "who_pm25_global_all = who_pm25_global[who_pm25_global['area']=='All']\n",
    "who_pm25_global_all.dtypes\n",
    "country_iso=who_pm25_global_all['iso3'].tolist()\n",
    "country_name=who_pm25_global_all['whoname'].tolist()\n",
    "median_pm25=who_pm25_global_all[' median'].tolist()"
   ]
  },
  {
   "cell_type": "code",
   "execution_count": null,
   "metadata": {},
   "outputs": [],
   "source": [
    "#to be removed\n",
    "#initializing the data variable\n",
    "data = dict(type = 'choropleth',\n",
    "            locations = country_iso,\n",
    "            locationmode = 'ISO-3',\n",
    "            colorscale= 'Portland',\n",
    "            text= country_name,\n",
    "            z=median_pm25,\n",
    "            colorbar = {'title':'Air Quality PM2.5', 'len':200,'lenmode':'pixels' })"
   ]
  },
  {
   "cell_type": "code",
   "execution_count": null,
   "metadata": {},
   "outputs": [],
   "source": [
    "#to be removed\n",
    "#initializing the layout variable\n",
    "layout = dict(geo = {'scope':'world'})"
   ]
  },
  {
   "cell_type": "code",
   "execution_count": null,
   "metadata": {},
   "outputs": [],
   "source": [
    "#to be removed\n",
    "# Initializing the Figure object by passing data and layout as arguments.\n",
    "col_map = gobj.Figure(data = [data],layout = layout)\n",
    "\n",
    "#plotting the map\n",
    "iplot(col_map)"
   ]
  },
  {
   "cell_type": "code",
   "execution_count": null,
   "metadata": {},
   "outputs": [],
   "source": []
  },
  {
   "cell_type": "code",
   "execution_count": null,
   "metadata": {},
   "outputs": [],
   "source": []
  }
 ],
 "metadata": {
  "kernelspec": {
   "display_name": "Python 3",
   "language": "python",
   "name": "python3"
  },
  "language_info": {
   "codemirror_mode": {
    "name": "ipython",
    "version": 3
   },
   "file_extension": ".py",
   "mimetype": "text/x-python",
   "name": "python",
   "nbconvert_exporter": "python",
   "pygments_lexer": "ipython3",
   "version": "3.8.5"
  }
 },
 "nbformat": 4,
 "nbformat_minor": 4
}
